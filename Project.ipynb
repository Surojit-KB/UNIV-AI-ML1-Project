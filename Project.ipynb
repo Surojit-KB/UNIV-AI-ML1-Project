{
  "nbformat": 4,
  "nbformat_minor": 0,
  "metadata": {
    "colab": {
      "name": "Project.ipynb",
      "provenance": [],
      "authorship_tag": "ABX9TyMh+WGg4efxBmYKAWW6ZMUh",
      "include_colab_link": true
    },
    "kernelspec": {
      "name": "python3",
      "display_name": "Python 3"
    }
  },
  "cells": [
    {
      "cell_type": "markdown",
      "metadata": {
        "id": "view-in-github",
        "colab_type": "text"
      },
      "source": [
        "<a href=\"https://colab.research.google.com/github/Surojit-KB/UNIV-AI-ML1-Project/blob/main/Project.ipynb\" target=\"_parent\"><img src=\"https://colab.research.google.com/assets/colab-badge.svg\" alt=\"Open In Colab\"/></a>"
      ]
    },
    {
      "cell_type": "markdown",
      "metadata": {
        "id": "V0_XvfvFCF5K"
      },
      "source": [
        "# Project\r\n",
        "# Yelp Restaurant Recommendation System using Collaborative Filtering\r\n",
        "The link to the dataset is below:<br>\r\n",
        "https://www.yelp.com/dataset <br>\r\n",
        "The documenation can be referred for more info on the dataset at:<br>\r\n",
        "https://www.yelp.com/dataset/documentation/main <br>\r\n",
        "We are going to use collaborative filtering using matrix factorization for building the recommendation system. The scope of the project is really small and is much less than what was envisoned at the beginning due to some unfortunate circumstances.<br>\r\n",
        "Project Partners are:\r\n",
        "\r\n",
        "\r\n",
        "1.   Siva M\r\n",
        "2.   Pooja B\r\n",
        "3. Ravi Tiwari\r\n",
        "4. Surojit B\r\n",
        "\r\n"
      ]
    },
    {
      "cell_type": "markdown",
      "metadata": {
        "id": "2ACd2ALyCYv5"
      },
      "source": [
        "We start off by importing the necessary libraries. These include pandas and numpy for working with the dataset, matplotlib and seaborn for basic plotting and sci-kit learn/ TensorFlow keras for the modelling part.\r\n"
      ]
    },
    {
      "cell_type": "code",
      "metadata": {
        "id": "jGYEfS9_Q_zd"
      },
      "source": [
        "import numpy as np\r\n",
        "import pandas as pd\r\n",
        "import matplotlib.pyplot as plt\r\n",
        "import seaborn as sns\r\n",
        "from sklearn.model_selection import train_test_split\r\n",
        "from tensorflow.keras.layers import Input, Embedding, Add, Dot, Flatten\r\n",
        "from tensorflow.keras import Model\r\n",
        "from tensorflow.keras.regularizers import l2\r\n",
        "from tensorflow.keras.optimizers import Adam\r\n",
        "from tensorflow.keras.layers import Activation\r\n",
        "from tensorflow.keras import backend as K\r\n",
        "from tensorflow.keras.utils import model_to_dot\r\n",
        "import pydot\r\n",
        "from keras.callbacks import LearningRateScheduler\r\n",
        "from IPython.display import display"
      ],
      "execution_count": 1,
      "outputs": []
    },
    {
      "cell_type": "markdown",
      "metadata": {
        "id": "2NVSjItYCzKo"
      },
      "source": [
        "The dataset will be loaded from Google Drive where it is stored. Please ignore this cell if you plan on importing the data by some other method."
      ]
    },
    {
      "cell_type": "code",
      "metadata": {
        "colab": {
          "base_uri": "https://localhost:8080/"
        },
        "id": "zKi5w8TgvY0A",
        "outputId": "0030a286-7e36-46cf-995e-86534d6a04b1"
      },
      "source": [
        "from google.colab import drive\r\n",
        "drive.mount('/content/drive')"
      ],
      "execution_count": 2,
      "outputs": [
        {
          "output_type": "stream",
          "text": [
            "Mounted at /content/drive\n"
          ],
          "name": "stdout"
        }
      ]
    },
    {
      "cell_type": "markdown",
      "metadata": {
        "id": "D9j1Yd3oF4cm"
      },
      "source": [
        "# Part 1: Getting the DATA/ Cleaning and EDA"
      ]
    },
    {
      "cell_type": "markdown",
      "metadata": {
        "id": "pCJb2KBGGAsw"
      },
      "source": [
        "## 1.1 BUSINESS DATA"
      ]
    },
    {
      "cell_type": "markdown",
      "metadata": {
        "id": "aFmqspPtDBQi"
      },
      "source": [
        "First we load the Business dataset. Since the size of the dataset is quite huge and loading the whole thing will overload the system RAM, we load it by specifying the datatypes of the column to restrict memory usage."
      ]
    },
    {
      "cell_type": "code",
      "metadata": {
        "id": "pX-XgQTqvx-p"
      },
      "source": [
        "#We have restricted the column datatype to 16bit wherever possible\r\n",
        "df_business = pd.read_json('/content/drive/MyDrive/Colab Notebooks/UNIV-AI-ML1/Project/yelp_academic_dataset_business.json',lines=True,\r\n",
        "                           dtype={'business_id':str,\r\n",
        "                                   'address':str,\r\n",
        "                                   'city':str,\r\n",
        "                                   'state':str,\r\n",
        "                                   'postal_code':str,\r\n",
        "                                   'latitude':np.float16,\r\n",
        "                                   'longitude':np.float16,\r\n",
        "                                   'stars':np.float16,\r\n",
        "                                   \"review_count\":np.int16,\r\n",
        "                                   \"is_open\":bool,\r\n",
        "                                   'attributes':object,\r\n",
        "                                   'categories':object,\r\n",
        "                                   'hours':object\r\n",
        "                           })"
      ],
      "execution_count": null,
      "outputs": []
    },
    {
      "cell_type": "code",
      "metadata": {
        "colab": {
          "base_uri": "https://localhost:8080/",
          "height": 574
        },
        "id": "jQLJFDc1yw19",
        "outputId": "0e572836-6667-4c9b-ad73-71e09c418ca2"
      },
      "source": [
        "df_business.head()"
      ],
      "execution_count": null,
      "outputs": [
        {
          "output_type": "execute_result",
          "data": {
            "text/html": [
              "<div>\n",
              "<style scoped>\n",
              "    .dataframe tbody tr th:only-of-type {\n",
              "        vertical-align: middle;\n",
              "    }\n",
              "\n",
              "    .dataframe tbody tr th {\n",
              "        vertical-align: top;\n",
              "    }\n",
              "\n",
              "    .dataframe thead th {\n",
              "        text-align: right;\n",
              "    }\n",
              "</style>\n",
              "<table border=\"1\" class=\"dataframe\">\n",
              "  <thead>\n",
              "    <tr style=\"text-align: right;\">\n",
              "      <th></th>\n",
              "      <th>business_id</th>\n",
              "      <th>name</th>\n",
              "      <th>address</th>\n",
              "      <th>city</th>\n",
              "      <th>state</th>\n",
              "      <th>postal_code</th>\n",
              "      <th>latitude</th>\n",
              "      <th>longitude</th>\n",
              "      <th>stars</th>\n",
              "      <th>review_count</th>\n",
              "      <th>is_open</th>\n",
              "      <th>attributes</th>\n",
              "      <th>categories</th>\n",
              "      <th>hours</th>\n",
              "    </tr>\n",
              "  </thead>\n",
              "  <tbody>\n",
              "    <tr>\n",
              "      <th>0</th>\n",
              "      <td>f9NumwFMBDn751xgFiRbNA</td>\n",
              "      <td>The Range At Lake Norman</td>\n",
              "      <td>10913 Bailey Rd</td>\n",
              "      <td>Cornelius</td>\n",
              "      <td>NC</td>\n",
              "      <td>28031</td>\n",
              "      <td>35.46875</td>\n",
              "      <td>-80.8750</td>\n",
              "      <td>3.5</td>\n",
              "      <td>36</td>\n",
              "      <td>True</td>\n",
              "      <td>{'BusinessAcceptsCreditCards': 'True', 'BikePa...</td>\n",
              "      <td>Active Life, Gun/Rifle Ranges, Guns &amp; Ammo, Sh...</td>\n",
              "      <td>{'Monday': '10:0-18:0', 'Tuesday': '11:0-20:0'...</td>\n",
              "    </tr>\n",
              "    <tr>\n",
              "      <th>1</th>\n",
              "      <td>Yzvjg0SayhoZgCljUJRF9Q</td>\n",
              "      <td>Carlos Santo, NMD</td>\n",
              "      <td>8880 E Via Linda, Ste 107</td>\n",
              "      <td>Scottsdale</td>\n",
              "      <td>AZ</td>\n",
              "      <td>85258</td>\n",
              "      <td>33.56250</td>\n",
              "      <td>-111.8750</td>\n",
              "      <td>5.0</td>\n",
              "      <td>4</td>\n",
              "      <td>True</td>\n",
              "      <td>{'GoodForKids': 'True', 'ByAppointmentOnly': '...</td>\n",
              "      <td>Health &amp; Medical, Fitness &amp; Instruction, Yoga,...</td>\n",
              "      <td>None</td>\n",
              "    </tr>\n",
              "    <tr>\n",
              "      <th>2</th>\n",
              "      <td>XNoUzKckATkOD1hP6vghZg</td>\n",
              "      <td>Felinus</td>\n",
              "      <td>3554 Rue Notre-Dame O</td>\n",
              "      <td>Montreal</td>\n",
              "      <td>QC</td>\n",
              "      <td>H4C 1P4</td>\n",
              "      <td>45.46875</td>\n",
              "      <td>-73.5625</td>\n",
              "      <td>5.0</td>\n",
              "      <td>5</td>\n",
              "      <td>True</td>\n",
              "      <td>None</td>\n",
              "      <td>Pets, Pet Services, Pet Groomers</td>\n",
              "      <td>None</td>\n",
              "    </tr>\n",
              "    <tr>\n",
              "      <th>3</th>\n",
              "      <td>6OAZjbxqM5ol29BuHsil3w</td>\n",
              "      <td>Nevada House of Hose</td>\n",
              "      <td>1015 Sharp Cir</td>\n",
              "      <td>North Las Vegas</td>\n",
              "      <td>NV</td>\n",
              "      <td>89030</td>\n",
              "      <td>36.21875</td>\n",
              "      <td>-115.1250</td>\n",
              "      <td>2.5</td>\n",
              "      <td>3</td>\n",
              "      <td>False</td>\n",
              "      <td>{'BusinessAcceptsCreditCards': 'True', 'ByAppo...</td>\n",
              "      <td>Hardware Stores, Home Services, Building Suppl...</td>\n",
              "      <td>{'Monday': '7:0-16:0', 'Tuesday': '7:0-16:0', ...</td>\n",
              "    </tr>\n",
              "    <tr>\n",
              "      <th>4</th>\n",
              "      <td>51M2Kk903DFYI6gnB5I6SQ</td>\n",
              "      <td>USE MY GUY SERVICES LLC</td>\n",
              "      <td>4827 E Downing Cir</td>\n",
              "      <td>Mesa</td>\n",
              "      <td>AZ</td>\n",
              "      <td>85205</td>\n",
              "      <td>33.43750</td>\n",
              "      <td>-111.7500</td>\n",
              "      <td>4.5</td>\n",
              "      <td>26</td>\n",
              "      <td>True</td>\n",
              "      <td>{'BusinessAcceptsCreditCards': 'True', 'ByAppo...</td>\n",
              "      <td>Home Services, Plumbing, Electricians, Handyma...</td>\n",
              "      <td>{'Monday': '0:0-0:0', 'Tuesday': '9:0-16:0', '...</td>\n",
              "    </tr>\n",
              "  </tbody>\n",
              "</table>\n",
              "</div>"
            ],
            "text/plain": [
              "              business_id  ...                                              hours\n",
              "0  f9NumwFMBDn751xgFiRbNA  ...  {'Monday': '10:0-18:0', 'Tuesday': '11:0-20:0'...\n",
              "1  Yzvjg0SayhoZgCljUJRF9Q  ...                                               None\n",
              "2  XNoUzKckATkOD1hP6vghZg  ...                                               None\n",
              "3  6OAZjbxqM5ol29BuHsil3w  ...  {'Monday': '7:0-16:0', 'Tuesday': '7:0-16:0', ...\n",
              "4  51M2Kk903DFYI6gnB5I6SQ  ...  {'Monday': '0:0-0:0', 'Tuesday': '9:0-16:0', '...\n",
              "\n",
              "[5 rows x 14 columns]"
            ]
          },
          "metadata": {
            "tags": []
          },
          "execution_count": 27
        }
      ]
    },
    {
      "cell_type": "markdown",
      "metadata": {
        "id": "E62DJrtNDur7"
      },
      "source": [
        "To limit the scope of the project, we will be targeting the top 4 cities with the most business. We can consider this as a recommendation system targeting the cities which hold the majority of the business that will attract more customers."
      ]
    },
    {
      "cell_type": "code",
      "metadata": {
        "colab": {
          "base_uri": "https://localhost:8080/"
        },
        "id": "D0G2qMWXy8af",
        "outputId": "593914d0-a9f7-4175-da5a-3d248de3b760"
      },
      "source": [
        "top_cities=list(df_business['city'].value_counts()[:4].index)\r\n",
        "print('The top four cities with the most business are:')\r\n",
        "for i in top_cities:\r\n",
        "  print(i)"
      ],
      "execution_count": null,
      "outputs": [
        {
          "output_type": "stream",
          "text": [
            "The top four cities with the most business are:\n",
            "Las Vegas\n",
            "Toronto\n",
            "Phoenix\n",
            "Charlotte\n"
          ],
          "name": "stdout"
        }
      ]
    },
    {
      "cell_type": "markdown",
      "metadata": {
        "id": "g-FfqXEHESUe"
      },
      "source": [
        "We have obtained the Top 4 cities to be:\r\n",
        "\r\n",
        "\r\n",
        "1.   Las Vegar\r\n",
        "2.   Toronto\r\n",
        "3. Phoenix\r\n",
        "4. Charlotte\r\n",
        "\r\n",
        "Lets now just focus on these city and the restaurants that are present in this city. We will extract the required data from the business dataset and delete the rest to save space.\r\n",
        "\r\n"
      ]
    },
    {
      "cell_type": "code",
      "metadata": {
        "id": "cyx-R3T-0wvs"
      },
      "source": [
        "df_top_business=df_business[(df_business['city']==top_cities[0])|(df_business['city']==top_cities[1])|(df_business['city']==top_cities[2])|(df_business['city']==top_cities[3])]"
      ],
      "execution_count": null,
      "outputs": []
    },
    {
      "cell_type": "code",
      "metadata": {
        "id": "yWdk_2Sp24rA"
      },
      "source": [
        "del df_business"
      ],
      "execution_count": null,
      "outputs": []
    },
    {
      "cell_type": "code",
      "metadata": {
        "colab": {
          "base_uri": "https://localhost:8080/"
        },
        "id": "IBe8GzTV2xAf",
        "outputId": "5386c715-5294-4044-cb05-fbdb29dc9134"
      },
      "source": [
        "df_top_business.info()"
      ],
      "execution_count": null,
      "outputs": [
        {
          "output_type": "stream",
          "text": [
            "<class 'pandas.core.frame.DataFrame'>\n",
            "Int64Index: 82590 entries, 6 to 209392\n",
            "Data columns (total 14 columns):\n",
            " #   Column        Non-Null Count  Dtype  \n",
            "---  ------        --------------  -----  \n",
            " 0   business_id   82590 non-null  object \n",
            " 1   name          82590 non-null  object \n",
            " 2   address       82590 non-null  object \n",
            " 3   city          82590 non-null  object \n",
            " 4   state         82590 non-null  object \n",
            " 5   postal_code   82590 non-null  object \n",
            " 6   latitude      82590 non-null  float16\n",
            " 7   longitude     82590 non-null  float16\n",
            " 8   stars         82590 non-null  float16\n",
            " 9   review_count  82590 non-null  int16  \n",
            " 10  is_open       82590 non-null  bool   \n",
            " 11  attributes    71320 non-null  object \n",
            " 12  categories    82388 non-null  object \n",
            " 13  hours         64564 non-null  object \n",
            "dtypes: bool(1), float16(3), int16(1), object(9)\n",
            "memory usage: 7.0+ MB\n"
          ],
          "name": "stdout"
        }
      ]
    },
    {
      "cell_type": "markdown",
      "metadata": {
        "id": "l27mEw_CE5Yd"
      },
      "source": [
        "Now we need to get the business that are restaurants from the above dataframe. To do this, we will focus on the `categories` column and select only those rows which have a restaurant tag in the `categories` column."
      ]
    },
    {
      "cell_type": "code",
      "metadata": {
        "id": "BmeMcLAqOSBC"
      },
      "source": [
        "rest_loc=df_top_business.categories.str.split(',').explode().str.strip()[(df_top_business.categories.str.split(',').explode().str.strip()=='Restaurants')].index"
      ],
      "execution_count": null,
      "outputs": []
    },
    {
      "cell_type": "code",
      "metadata": {
        "id": "W_d5oTiGUUHX"
      },
      "source": [
        "df_restaurants=df_top_business.loc[rest_loc]"
      ],
      "execution_count": null,
      "outputs": []
    },
    {
      "cell_type": "markdown",
      "metadata": {
        "id": "RGx6aF-5FTXF"
      },
      "source": [
        "We pickle this data for future use. It will be provided as part of the project repo."
      ]
    },
    {
      "cell_type": "code",
      "metadata": {
        "id": "PJJy6D_NUpwE"
      },
      "source": [
        "df_restuarants.to_pickle('/content/drive/MyDrive/Colab Notebooks/UNIV-AI-ML1/Project/df_restaurants')\r\n",
        "del df_restaurants"
      ],
      "execution_count": null,
      "outputs": []
    },
    {
      "cell_type": "code",
      "metadata": {
        "id": "jv5Nu7kNUpeB",
        "colab": {
          "base_uri": "https://localhost:8080/"
        },
        "outputId": "0b7becae-cfa4-445d-f182-c52e4cb4ea51"
      },
      "source": [
        "df_restaurants=pd.read_pickle('/content/drive/MyDrive/Colab Notebooks/UNIV-AI-ML1/Project/df_restaurants')\r\n",
        "df_restaurants.shape"
      ],
      "execution_count": 13,
      "outputs": [
        {
          "output_type": "execute_result",
          "data": {
            "text/plain": [
              "(22749, 14)"
            ]
          },
          "metadata": {
            "tags": []
          },
          "execution_count": 13
        }
      ]
    },
    {
      "cell_type": "markdown",
      "metadata": {
        "id": "qU-FpIRqFjCH"
      },
      "source": [
        "We can see that the dataset we have is very small as compared to the original dataset we had. This just contains around 22000 columns. "
      ]
    },
    {
      "cell_type": "code",
      "metadata": {
        "colab": {
          "base_uri": "https://localhost:8080/",
          "height": 504
        },
        "id": "zAJ0vEKPcDBA",
        "outputId": "bbb71dc7-ea0a-4329-e95d-b023b9bef933"
      },
      "source": [
        "df_restaurants.head(5)"
      ],
      "execution_count": null,
      "outputs": [
        {
          "output_type": "execute_result",
          "data": {
            "text/html": [
              "<div>\n",
              "<style scoped>\n",
              "    .dataframe tbody tr th:only-of-type {\n",
              "        vertical-align: middle;\n",
              "    }\n",
              "\n",
              "    .dataframe tbody tr th {\n",
              "        vertical-align: top;\n",
              "    }\n",
              "\n",
              "    .dataframe thead th {\n",
              "        text-align: right;\n",
              "    }\n",
              "</style>\n",
              "<table border=\"1\" class=\"dataframe\">\n",
              "  <thead>\n",
              "    <tr style=\"text-align: right;\">\n",
              "      <th></th>\n",
              "      <th>business_id</th>\n",
              "      <th>name</th>\n",
              "      <th>address</th>\n",
              "      <th>city</th>\n",
              "      <th>state</th>\n",
              "      <th>postal_code</th>\n",
              "      <th>latitude</th>\n",
              "      <th>longitude</th>\n",
              "      <th>stars</th>\n",
              "      <th>review_count</th>\n",
              "      <th>is_open</th>\n",
              "      <th>attributes</th>\n",
              "      <th>categories</th>\n",
              "      <th>hours</th>\n",
              "    </tr>\n",
              "  </thead>\n",
              "  <tbody>\n",
              "    <tr>\n",
              "      <th>20</th>\n",
              "      <td>CsLQLiRoafpJPJSkNX2h5Q</td>\n",
              "      <td>Middle East Deli</td>\n",
              "      <td>4508 E Independence Blvd</td>\n",
              "      <td>Charlotte</td>\n",
              "      <td>NC</td>\n",
              "      <td>28205</td>\n",
              "      <td>35.18750</td>\n",
              "      <td>-80.7500</td>\n",
              "      <td>3.0</td>\n",
              "      <td>5</td>\n",
              "      <td>False</td>\n",
              "      <td>{'RestaurantsGoodForGroups': 'True', 'OutdoorS...</td>\n",
              "      <td>Food, Restaurants, Grocery, Middle Eastern</td>\n",
              "      <td>None</td>\n",
              "    </tr>\n",
              "    <tr>\n",
              "      <th>33</th>\n",
              "      <td>vjTVxnsQEZ34XjYNS-XUpA</td>\n",
              "      <td>Wetzel's Pretzels</td>\n",
              "      <td>4550 East Cactus Rd, #KSFC-4</td>\n",
              "      <td>Phoenix</td>\n",
              "      <td>AZ</td>\n",
              "      <td>85032</td>\n",
              "      <td>33.59375</td>\n",
              "      <td>-112.0000</td>\n",
              "      <td>4.0</td>\n",
              "      <td>10</td>\n",
              "      <td>True</td>\n",
              "      <td>{'GoodForKids': 'True', 'RestaurantsTakeOut': ...</td>\n",
              "      <td>Food, Pretzels, Bakeries, Fast Food, Restaurants</td>\n",
              "      <td>{'Monday': '10:0-21:0', 'Tuesday': '10:0-21:0'...</td>\n",
              "    </tr>\n",
              "    <tr>\n",
              "      <th>36</th>\n",
              "      <td>fnZrZlqW1Z8iWgTVDfv_MA</td>\n",
              "      <td>Carl's Jr</td>\n",
              "      <td>9595 W Tropicana Ave</td>\n",
              "      <td>Las Vegas</td>\n",
              "      <td>NV</td>\n",
              "      <td>89147</td>\n",
              "      <td>36.09375</td>\n",
              "      <td>-115.3125</td>\n",
              "      <td>2.5</td>\n",
              "      <td>15</td>\n",
              "      <td>False</td>\n",
              "      <td>{'Alcohol': 'u'none'', 'WiFi': 'u'no'', 'GoodF...</td>\n",
              "      <td>Mexican, Restaurants, Fast Food</td>\n",
              "      <td>None</td>\n",
              "    </tr>\n",
              "    <tr>\n",
              "      <th>38</th>\n",
              "      <td>rVBPQdeayMYht4Uv_FOLHg</td>\n",
              "      <td>Gourmet Burger Company</td>\n",
              "      <td>843 Kipling Avenue</td>\n",
              "      <td>Toronto</td>\n",
              "      <td>ON</td>\n",
              "      <td>M8Z 5G9</td>\n",
              "      <td>43.62500</td>\n",
              "      <td>-79.5625</td>\n",
              "      <td>3.0</td>\n",
              "      <td>13</td>\n",
              "      <td>False</td>\n",
              "      <td>{'RestaurantsPriceRange2': '2', 'RestaurantsAt...</td>\n",
              "      <td>Restaurants, Burgers, Food</td>\n",
              "      <td>None</td>\n",
              "    </tr>\n",
              "    <tr>\n",
              "      <th>42</th>\n",
              "      <td>fhNf_sg-XzZ3e7HEVGuOZg</td>\n",
              "      <td>Meat Chix And Wieners</td>\n",
              "      <td>6530 S Decatur Blvd</td>\n",
              "      <td>Las Vegas</td>\n",
              "      <td>NV</td>\n",
              "      <td>89118</td>\n",
              "      <td>36.06250</td>\n",
              "      <td>-115.1875</td>\n",
              "      <td>3.0</td>\n",
              "      <td>10</td>\n",
              "      <td>False</td>\n",
              "      <td>{'RestaurantsPriceRange2': '2', 'BusinessParki...</td>\n",
              "      <td>Burgers, Restaurants, American (Traditional), ...</td>\n",
              "      <td>{'Monday': '11:0-22:0', 'Tuesday': '11:0-22:0'...</td>\n",
              "    </tr>\n",
              "  </tbody>\n",
              "</table>\n",
              "</div>"
            ],
            "text/plain": [
              "               business_id  ...                                              hours\n",
              "20  CsLQLiRoafpJPJSkNX2h5Q  ...                                               None\n",
              "33  vjTVxnsQEZ34XjYNS-XUpA  ...  {'Monday': '10:0-21:0', 'Tuesday': '10:0-21:0'...\n",
              "36  fnZrZlqW1Z8iWgTVDfv_MA  ...                                               None\n",
              "38  rVBPQdeayMYht4Uv_FOLHg  ...                                               None\n",
              "42  fhNf_sg-XzZ3e7HEVGuOZg  ...  {'Monday': '11:0-22:0', 'Tuesday': '11:0-22:0'...\n",
              "\n",
              "[5 rows x 14 columns]"
            ]
          },
          "metadata": {
            "tags": []
          },
          "execution_count": 4
        }
      ]
    },
    {
      "cell_type": "code",
      "metadata": {
        "colab": {
          "base_uri": "https://localhost:8080/",
          "height": 616
        },
        "id": "o4Z2eHxTcLTs",
        "outputId": "ee8a681a-a2a9-471d-d0ee-cede1d7558f2"
      },
      "source": [
        "city_count=df_restaurants.city.value_counts().sort_values(ascending=False)\r\n",
        "fig,ax = plt.subplots(1,2,figsize=(16, 8))\r\n",
        "sns.barplot(city_count.index, city_count.values,ax=ax[0])\r\n",
        "sns.boxplot(x='city',y='stars',data=df_restaurants,ax=ax[1])\r\n",
        "ax[1].set_title(\"Rating per city\",fontsize = 20);\r\n",
        "ax[0].set_title(\"Top Cities\",fontsize = 20)\r\n",
        "x_locs,x_labels = plt.xticks()\r\n",
        "plt.setp(x_labels, rotation = 60)\r\n",
        "ax[0].set_ylabel('Number of Restaurants', fontsize = 12)\r\n",
        "ax[0].set_xlabel('City', fontsize = 12)\r\n",
        "ax[1].set_ylabel('Rating', fontsize = 12)\r\n",
        "ax[1].set_xlabel('City', fontsize = 12);"
      ],
      "execution_count": null,
      "outputs": [
        {
          "output_type": "stream",
          "text": [
            "/usr/local/lib/python3.7/dist-packages/seaborn/_decorators.py:43: FutureWarning: Pass the following variables as keyword args: x, y. From version 0.12, the only valid positional argument will be `data`, and passing other arguments without an explicit keyword will result in an error or misinterpretation.\n",
            "  FutureWarning\n"
          ],
          "name": "stderr"
        },
        {
          "output_type": "display_data",
          "data": {
            "image/png": "[encoded data removed]",
            "text/plain": [
              "<Figure size 1152x576 with 2 Axes>"
            ]
          },
          "metadata": {
            "tags": [],
            "needs_background": "light"
          }
        }
      ]
    },
    {
      "cell_type": "code",
      "metadata": {
        "colab": {
          "base_uri": "https://localhost:8080/",
          "height": 592
        },
        "id": "IQ9hBXi_cK5o",
        "outputId": "b86f6d21-cef2-40aa-9eb7-1f4b183e47e1"
      },
      "source": [
        "res_count = df_restaurants.name.value_counts()\r\n",
        "res_count = res_count.sort_values(ascending = False)\r\n",
        "res_count = res_count.iloc[0:15]\r\n",
        "fig = plt.figure(figsize=(10, 6))\r\n",
        "sns.barplot(res_count.index, res_count.values)\r\n",
        "plt.title(\"Restaurants with High Occurences\",fontsize = 20)\r\n",
        "x_locs,x_labels = plt.xticks()\r\n",
        "plt.setp(x_labels, rotation = 90)\r\n",
        "plt.ylabel('Count', fontsize = 12)\r\n",
        "plt.xlabel('Restaurant', fontsize = 12);"
      ],
      "execution_count": null,
      "outputs": [
        {
          "output_type": "stream",
          "text": [
            "/usr/local/lib/python3.7/dist-packages/seaborn/_decorators.py:43: FutureWarning: Pass the following variables as keyword args: x, y. From version 0.12, the only valid positional argument will be `data`, and passing other arguments without an explicit keyword will result in an error or misinterpretation.\n",
            "  FutureWarning\n"
          ],
          "name": "stderr"
        },
        {
          "output_type": "display_data",
          "data": {
            "image/png": "[encoded data removed]",
            "text/plain": [
              "<Figure size 720x432 with 1 Axes>"
            ]
          },
          "metadata": {
            "tags": [],
            "needs_background": "light"
          }
        }
      ]
    },
    {
      "cell_type": "code",
      "metadata": {
        "colab": {
          "base_uri": "https://localhost:8080/",
          "height": 592
        },
        "id": "mRzT8xMFhwJL",
        "outputId": "94157272-7a48-4bcd-f131-5857129dc064"
      },
      "source": [
        "df_restaurants.loc[df_restaurants.name == 'Subway', 'name'] = 'Subway Restaurants'\r\n",
        "res_count = df_restaurants.name.value_counts()\r\n",
        "res_count = res_count.sort_values(ascending = False)\r\n",
        "res_count = res_count.iloc[0:15]\r\n",
        "fig = plt.figure(figsize=(10, 6))\r\n",
        "sns.barplot(res_count.index, res_count.values)\r\n",
        "plt.title(\"Restaurants with High Occurences\",fontsize = 20)\r\n",
        "x_locs,x_labels = plt.xticks()\r\n",
        "plt.setp(x_labels, rotation = 90)\r\n",
        "plt.ylabel('Count', fontsize = 12)\r\n",
        "plt.xlabel('Restaurant', fontsize = 12);"
      ],
      "execution_count": null,
      "outputs": [
        {
          "output_type": "stream",
          "text": [
            "/usr/local/lib/python3.7/dist-packages/seaborn/_decorators.py:43: FutureWarning: Pass the following variables as keyword args: x, y. From version 0.12, the only valid positional argument will be `data`, and passing other arguments without an explicit keyword will result in an error or misinterpretation.\n",
            "  FutureWarning\n"
          ],
          "name": "stderr"
        },
        {
          "output_type": "display_data",
          "data": {
            "image/png": "[encoded data removed]",
            "text/plain": [
              "<Figure size 720x432 with 1 Axes>"
            ]
          },
          "metadata": {
            "tags": [],
            "needs_background": "light"
          }
        }
      ]
    },
    {
      "cell_type": "code",
      "metadata": {
        "id": "2XjMYG_tidB_"
      },
      "source": [
        "burg_df=df_restaurants.loc[(df_restaurants.name == 'McDonald\\'s') | (df_restaurants.name == 'Burger King')]\r\n",
        "pizza_df = df_restaurants.loc[(df_restaurants.name == 'Pizza Hut') | (df_restaurants.name == 'Domino\\'s Pizza')]"
      ],
      "execution_count": null,
      "outputs": []
    },
    {
      "cell_type": "code",
      "metadata": {
        "colab": {
          "base_uri": "https://localhost:8080/",
          "height": 630
        },
        "id": "6D6zXrb-i_kI",
        "outputId": "c113a66a-2911-4d72-cc0e-a61f33110499"
      },
      "source": [
        "fig,ax = plt.subplots(1,2,figsize=(20, 10))\r\n",
        "sns.boxplot(x = 'name', y = 'stars', data = burg_df,ax=ax[0])\r\n",
        "sns.boxplot(x='name',y='stars',data=pizza_df,ax=ax[1])\r\n",
        "ax[0].set_title(\"Rating Comparison: MD vs BK\",fontsize = 20)\r\n",
        "ax[1].set_title(\"Rating Comparison: PH vs DP\",fontsize = 20)\r\n",
        "plt.ylabel('Stars', fontsize = 12)\r\n",
        "plt.xlabel('Restaurant Name', fontsize = 12);"
      ],
      "execution_count": null,
      "outputs": [
        {
          "output_type": "display_data",
          "data": {
            "image/png": "[encoded data removed]",
            "text/plain": [
              "<Figure size 1440x720 with 2 Axes>"
            ]
          },
          "metadata": {
            "tags": [],
            "needs_background": "light"
          }
        }
      ]
    },
    {
      "cell_type": "code",
      "metadata": {
        "colab": {
          "base_uri": "https://localhost:8080/",
          "height": 627
        },
        "id": "APZhWCLdjNd5",
        "outputId": "f2b47911-f850-4e8a-ff27-a61ae06a93f8"
      },
      "source": [
        "fig,ax = plt.subplots(1,2,figsize=(20, 10))\r\n",
        "sns.scatterplot(x='stars',y='review_count',hue='city',data=df_restaurants,ax=ax[0],alpha=0.8,s=60)\r\n",
        "sns.histplot(x='stars',data=df_restaurants,ax=ax[1])\r\n",
        "ax[0].set_title('Stars vs Review Count for Restaurants',fontsize=20)\r\n",
        "ax[1].set_title('Histogram for Rating',fontsize=20);"
      ],
      "execution_count": 26,
      "outputs": [
        {
          "output_type": "display_data",
          "data": {
            "image/png": "[encoded data removed]",
            "text/plain": [
              "<Figure size 1440x720 with 2 Axes>"
            ]
          },
          "metadata": {
            "tags": [],
            "needs_background": "light"
          }
        }
      ]
    },
    {
      "cell_type": "markdown",
      "metadata": {
        "id": "MgH0l_9mFvs3"
      },
      "source": [
        "## 1.2.  USER DATA"
      ]
    },
    {
      "cell_type": "markdown",
      "metadata": {
        "id": "eIa_594GGKvl"
      },
      "source": [
        "Now we will turn our focus on the user dataset. Here too, the size of the data is too huge to load into memory. So in addition to specifying the datatypes, we are going to work with chunks of data using the `chunksize` argument while loading the dataset. The `chunksize` has been specified to 100000, which means only this much data will be loaded at one time. We will drop the unnecessary columns and then append this data to the user dataframe."
      ]
    },
    {
      "cell_type": "code",
      "metadata": {
        "id": "XOrVKcUzGkM3"
      },
      "source": [
        "#The user data columns was obtained by loading just 1 row initially and the datatypes were assigned\r\n",
        "user_dtype={'user_id':str, 'name':str, 'review_count':np.int16, 'yelping_since':str, 'useful':np.int16, 'funny':np.int16,\r\n",
        "       'cool':np.int16, 'elite':object, 'friends':object, 'fans':np.int32, 'average_stars':np.float16, 'compliment_hot':np.int16,\r\n",
        "       'compliment_more':np.int16, 'compliment_profile':np.int16, 'compliment_cute':np.int16,\r\n",
        "       'compliment_list':np.int16, 'compliment_note':np.int16, 'compliment_plain':np.int16,\r\n",
        "       'compliment_cool':np.int16, 'compliment_funny':np.int16, 'compliment_writer':np.int16,\r\n",
        "       'compliment_photos':np.int16}\r\n",
        "date_column=['yelping_since']"
      ],
      "execution_count": null,
      "outputs": []
    },
    {
      "cell_type": "code",
      "metadata": {
        "id": "GUN9aNqhFYRT"
      },
      "source": [
        "size = 100000\r\n",
        "user= pd.read_json('/content/drive/MyDrive/Colab Notebooks/UNIV-AI-ML1/Project/yelp_academic_dataset_user.json', lines=True,\r\n",
        "                      chunksize=size,nrows=size*20,dtype=user_dtype,convert_dates=date_column) #This just provides the JSON reader object"
      ],
      "execution_count": null,
      "outputs": []
    },
    {
      "cell_type": "code",
      "metadata": {
        "id": "T0qdkWpeH5_5"
      },
      "source": [
        "#Here we load the actual data\r\n",
        "df_users=pd.DataFrame()\r\n",
        "for chunk in user:\r\n",
        "  df_chunk=pd.DataFrame(chunk)\r\n",
        "  df_users=pd.concat([df_users,df_chunk],axis=0)"
      ],
      "execution_count": null,
      "outputs": []
    },
    {
      "cell_type": "code",
      "metadata": {
        "colab": {
          "base_uri": "https://localhost:8080/",
          "height": 313
        },
        "id": "Xwf0pYBvIzj1",
        "outputId": "8042602f-e1d3-4e51-ca68-99f698b2b832"
      },
      "source": [
        "df_users.head()"
      ],
      "execution_count": null,
      "outputs": [
        {
          "output_type": "execute_result",
          "data": {
            "text/html": [
              "<div>\n",
              "<style scoped>\n",
              "    .dataframe tbody tr th:only-of-type {\n",
              "        vertical-align: middle;\n",
              "    }\n",
              "\n",
              "    .dataframe tbody tr th {\n",
              "        vertical-align: top;\n",
              "    }\n",
              "\n",
              "    .dataframe thead th {\n",
              "        text-align: right;\n",
              "    }\n",
              "</style>\n",
              "<table border=\"1\" class=\"dataframe\">\n",
              "  <thead>\n",
              "    <tr style=\"text-align: right;\">\n",
              "      <th></th>\n",
              "      <th>user_id</th>\n",
              "      <th>name</th>\n",
              "      <th>review_count</th>\n",
              "      <th>yelping_since</th>\n",
              "      <th>useful</th>\n",
              "      <th>funny</th>\n",
              "      <th>cool</th>\n",
              "      <th>elite</th>\n",
              "      <th>friends</th>\n",
              "      <th>fans</th>\n",
              "      <th>average_stars</th>\n",
              "      <th>compliment_hot</th>\n",
              "      <th>compliment_more</th>\n",
              "      <th>compliment_profile</th>\n",
              "      <th>compliment_cute</th>\n",
              "      <th>compliment_list</th>\n",
              "      <th>compliment_note</th>\n",
              "      <th>compliment_plain</th>\n",
              "      <th>compliment_cool</th>\n",
              "      <th>compliment_funny</th>\n",
              "      <th>compliment_writer</th>\n",
              "      <th>compliment_photos</th>\n",
              "    </tr>\n",
              "  </thead>\n",
              "  <tbody>\n",
              "    <tr>\n",
              "      <th>0</th>\n",
              "      <td>ntlvfPzc8eglqvk92iDIAw</td>\n",
              "      <td>Rafael</td>\n",
              "      <td>553</td>\n",
              "      <td>2007-07-06 03:27:11</td>\n",
              "      <td>628</td>\n",
              "      <td>225</td>\n",
              "      <td>227</td>\n",
              "      <td></td>\n",
              "      <td>oeMvJh94PiGQnx_6GlndPQ, wm1z1PaJKvHgSDRKfwhfDg...</td>\n",
              "      <td>14</td>\n",
              "      <td>3.570312</td>\n",
              "      <td>3</td>\n",
              "      <td>2</td>\n",
              "      <td>1</td>\n",
              "      <td>0</td>\n",
              "      <td>1</td>\n",
              "      <td>11</td>\n",
              "      <td>15</td>\n",
              "      <td>22</td>\n",
              "      <td>22</td>\n",
              "      <td>10</td>\n",
              "      <td>0</td>\n",
              "    </tr>\n",
              "    <tr>\n",
              "      <th>1</th>\n",
              "      <td>FOBRPlBHa3WPHFB5qYDlVg</td>\n",
              "      <td>Michelle</td>\n",
              "      <td>564</td>\n",
              "      <td>2008-04-28 01:29:25</td>\n",
              "      <td>790</td>\n",
              "      <td>316</td>\n",
              "      <td>400</td>\n",
              "      <td>2008,2009,2010,2011,2012,2013</td>\n",
              "      <td>ly7EnE8leJmyqyePVYFlug, pRlR63iDytsnnniPb3AOug...</td>\n",
              "      <td>27</td>\n",
              "      <td>3.839844</td>\n",
              "      <td>36</td>\n",
              "      <td>4</td>\n",
              "      <td>5</td>\n",
              "      <td>2</td>\n",
              "      <td>1</td>\n",
              "      <td>33</td>\n",
              "      <td>37</td>\n",
              "      <td>63</td>\n",
              "      <td>63</td>\n",
              "      <td>21</td>\n",
              "      <td>5</td>\n",
              "    </tr>\n",
              "    <tr>\n",
              "      <th>2</th>\n",
              "      <td>zZUnPeh2hEp0WydbAZEOOg</td>\n",
              "      <td>Martin</td>\n",
              "      <td>60</td>\n",
              "      <td>2008-08-28 23:40:05</td>\n",
              "      <td>151</td>\n",
              "      <td>125</td>\n",
              "      <td>103</td>\n",
              "      <td>2010</td>\n",
              "      <td>Uwlk0txjQBPw_JhHsQnyeg, Ybxr1tSCkv3lYA0I1qmnPQ...</td>\n",
              "      <td>5</td>\n",
              "      <td>3.439453</td>\n",
              "      <td>9</td>\n",
              "      <td>6</td>\n",
              "      <td>0</td>\n",
              "      <td>1</td>\n",
              "      <td>0</td>\n",
              "      <td>3</td>\n",
              "      <td>7</td>\n",
              "      <td>17</td>\n",
              "      <td>17</td>\n",
              "      <td>4</td>\n",
              "      <td>1</td>\n",
              "    </tr>\n",
              "    <tr>\n",
              "      <th>3</th>\n",
              "      <td>QaELAmRcDc5TfJEylaaP8g</td>\n",
              "      <td>John</td>\n",
              "      <td>206</td>\n",
              "      <td>2008-09-20 00:08:14</td>\n",
              "      <td>233</td>\n",
              "      <td>160</td>\n",
              "      <td>84</td>\n",
              "      <td>2009</td>\n",
              "      <td>iog3Nyg1i4jeumiTVG_BSA, M92xWY2Vr9w0xoH8bPplfQ...</td>\n",
              "      <td>6</td>\n",
              "      <td>3.080078</td>\n",
              "      <td>2</td>\n",
              "      <td>1</td>\n",
              "      <td>0</td>\n",
              "      <td>0</td>\n",
              "      <td>0</td>\n",
              "      <td>7</td>\n",
              "      <td>14</td>\n",
              "      <td>7</td>\n",
              "      <td>7</td>\n",
              "      <td>2</td>\n",
              "      <td>0</td>\n",
              "    </tr>\n",
              "    <tr>\n",
              "      <th>4</th>\n",
              "      <td>xvu8G900tezTzbbfqmTKvA</td>\n",
              "      <td>Anne</td>\n",
              "      <td>485</td>\n",
              "      <td>2008-08-09 00:30:27</td>\n",
              "      <td>1265</td>\n",
              "      <td>400</td>\n",
              "      <td>512</td>\n",
              "      <td>2009,2010,2011,2012,2014,2015,2016,2017,2018</td>\n",
              "      <td>3W3ZMSthojCUirKEqAwGNw, eTIbuu23j9tOgmIa9POyLQ...</td>\n",
              "      <td>78</td>\n",
              "      <td>4.371094</td>\n",
              "      <td>8</td>\n",
              "      <td>9</td>\n",
              "      <td>2</td>\n",
              "      <td>1</td>\n",
              "      <td>1</td>\n",
              "      <td>22</td>\n",
              "      <td>28</td>\n",
              "      <td>31</td>\n",
              "      <td>31</td>\n",
              "      <td>19</td>\n",
              "      <td>31</td>\n",
              "    </tr>\n",
              "  </tbody>\n",
              "</table>\n",
              "</div>"
            ],
            "text/plain": [
              "                  user_id      name  ...  compliment_writer compliment_photos\n",
              "0  ntlvfPzc8eglqvk92iDIAw    Rafael  ...                 10                 0\n",
              "1  FOBRPlBHa3WPHFB5qYDlVg  Michelle  ...                 21                 5\n",
              "2  zZUnPeh2hEp0WydbAZEOOg    Martin  ...                  4                 1\n",
              "3  QaELAmRcDc5TfJEylaaP8g      John  ...                  2                 0\n",
              "4  xvu8G900tezTzbbfqmTKvA      Anne  ...                 19                31\n",
              "\n",
              "[5 rows x 22 columns]"
            ]
          },
          "metadata": {
            "tags": []
          },
          "execution_count": 29
        }
      ]
    },
    {
      "cell_type": "code",
      "metadata": {
        "colab": {
          "base_uri": "https://localhost:8080/",
          "height": 320
        },
        "id": "cyKrPRHBKYPI",
        "outputId": "c684bcc2-dcf4-4c0d-df46-eb740d4e66c4"
      },
      "source": [
        "df_users.describe()"
      ],
      "execution_count": null,
      "outputs": [
        {
          "output_type": "execute_result",
          "data": {
            "text/html": [
              "<div>\n",
              "<style scoped>\n",
              "    .dataframe tbody tr th:only-of-type {\n",
              "        vertical-align: middle;\n",
              "    }\n",
              "\n",
              "    .dataframe tbody tr th {\n",
              "        vertical-align: top;\n",
              "    }\n",
              "\n",
              "    .dataframe thead th {\n",
              "        text-align: right;\n",
              "    }\n",
              "</style>\n",
              "<table border=\"1\" class=\"dataframe\">\n",
              "  <thead>\n",
              "    <tr style=\"text-align: right;\">\n",
              "      <th></th>\n",
              "      <th>review_count</th>\n",
              "      <th>useful</th>\n",
              "      <th>funny</th>\n",
              "      <th>cool</th>\n",
              "      <th>fans</th>\n",
              "      <th>average_stars</th>\n",
              "      <th>compliment_hot</th>\n",
              "      <th>compliment_more</th>\n",
              "      <th>compliment_profile</th>\n",
              "      <th>compliment_cute</th>\n",
              "      <th>compliment_list</th>\n",
              "      <th>compliment_note</th>\n",
              "      <th>compliment_plain</th>\n",
              "      <th>compliment_cool</th>\n",
              "      <th>compliment_funny</th>\n",
              "      <th>compliment_writer</th>\n",
              "      <th>compliment_photos</th>\n",
              "    </tr>\n",
              "  </thead>\n",
              "  <tbody>\n",
              "    <tr>\n",
              "      <th>count</th>\n",
              "      <td>1.968703e+06</td>\n",
              "      <td>1.968703e+06</td>\n",
              "      <td>1.968703e+06</td>\n",
              "      <td>1.968703e+06</td>\n",
              "      <td>1.968703e+06</td>\n",
              "      <td>1.968703e+06</td>\n",
              "      <td>1.968703e+06</td>\n",
              "      <td>1.968703e+06</td>\n",
              "      <td>1.968703e+06</td>\n",
              "      <td>1.968703e+06</td>\n",
              "      <td>1.968703e+06</td>\n",
              "      <td>1.968703e+06</td>\n",
              "      <td>1.968703e+06</td>\n",
              "      <td>1.968703e+06</td>\n",
              "      <td>1.968703e+06</td>\n",
              "      <td>1.968703e+06</td>\n",
              "      <td>1.968703e+06</td>\n",
              "    </tr>\n",
              "    <tr>\n",
              "      <th>mean</th>\n",
              "      <td>2.216930e+01</td>\n",
              "      <td>3.699754e+01</td>\n",
              "      <td>1.600239e+01</td>\n",
              "      <td>1.951089e+01</td>\n",
              "      <td>1.458824e+00</td>\n",
              "      <td>NaN</td>\n",
              "      <td>1.980362e+00</td>\n",
              "      <td>3.004191e-01</td>\n",
              "      <td>1.873203e-01</td>\n",
              "      <td>1.614454e-01</td>\n",
              "      <td>7.019241e-02</td>\n",
              "      <td>1.305939e+00</td>\n",
              "      <td>2.816663e+00</td>\n",
              "      <td>2.785878e+00</td>\n",
              "      <td>2.785878e+00</td>\n",
              "      <td>1.058364e+00</td>\n",
              "      <td>1.014877e+00</td>\n",
              "    </tr>\n",
              "    <tr>\n",
              "      <th>std</th>\n",
              "      <td>7.674226e+01</td>\n",
              "      <td>3.776958e+02</td>\n",
              "      <td>2.607460e+02</td>\n",
              "      <td>3.236825e+02</td>\n",
              "      <td>1.667521e+01</td>\n",
              "      <td>0.000000e+00</td>\n",
              "      <td>7.229082e+01</td>\n",
              "      <td>1.275309e+01</td>\n",
              "      <td>1.507502e+01</td>\n",
              "      <td>1.162099e+01</td>\n",
              "      <td>9.967903e+00</td>\n",
              "      <td>3.714887e+01</td>\n",
              "      <td>8.223036e+01</td>\n",
              "      <td>8.348484e+01</td>\n",
              "      <td>8.348484e+01</td>\n",
              "      <td>3.154894e+01</td>\n",
              "      <td>5.764002e+01</td>\n",
              "    </tr>\n",
              "    <tr>\n",
              "      <th>min</th>\n",
              "      <td>0.000000e+00</td>\n",
              "      <td>-3.260300e+04</td>\n",
              "      <td>-3.217400e+04</td>\n",
              "      <td>-3.263400e+04</td>\n",
              "      <td>0.000000e+00</td>\n",
              "      <td>1.000000e+00</td>\n",
              "      <td>0.000000e+00</td>\n",
              "      <td>0.000000e+00</td>\n",
              "      <td>0.000000e+00</td>\n",
              "      <td>0.000000e+00</td>\n",
              "      <td>0.000000e+00</td>\n",
              "      <td>-2.723000e+04</td>\n",
              "      <td>0.000000e+00</td>\n",
              "      <td>-2.502800e+04</td>\n",
              "      <td>-2.502800e+04</td>\n",
              "      <td>0.000000e+00</td>\n",
              "      <td>-2.271000e+04</td>\n",
              "    </tr>\n",
              "    <tr>\n",
              "      <th>25%</th>\n",
              "      <td>2.000000e+00</td>\n",
              "      <td>0.000000e+00</td>\n",
              "      <td>0.000000e+00</td>\n",
              "      <td>0.000000e+00</td>\n",
              "      <td>0.000000e+00</td>\n",
              "      <td>3.000000e+00</td>\n",
              "      <td>0.000000e+00</td>\n",
              "      <td>0.000000e+00</td>\n",
              "      <td>0.000000e+00</td>\n",
              "      <td>0.000000e+00</td>\n",
              "      <td>0.000000e+00</td>\n",
              "      <td>0.000000e+00</td>\n",
              "      <td>0.000000e+00</td>\n",
              "      <td>0.000000e+00</td>\n",
              "      <td>0.000000e+00</td>\n",
              "      <td>0.000000e+00</td>\n",
              "      <td>0.000000e+00</td>\n",
              "    </tr>\n",
              "    <tr>\n",
              "      <th>50%</th>\n",
              "      <td>5.000000e+00</td>\n",
              "      <td>3.000000e+00</td>\n",
              "      <td>0.000000e+00</td>\n",
              "      <td>0.000000e+00</td>\n",
              "      <td>0.000000e+00</td>\n",
              "      <td>3.880859e+00</td>\n",
              "      <td>0.000000e+00</td>\n",
              "      <td>0.000000e+00</td>\n",
              "      <td>0.000000e+00</td>\n",
              "      <td>0.000000e+00</td>\n",
              "      <td>0.000000e+00</td>\n",
              "      <td>0.000000e+00</td>\n",
              "      <td>0.000000e+00</td>\n",
              "      <td>0.000000e+00</td>\n",
              "      <td>0.000000e+00</td>\n",
              "      <td>0.000000e+00</td>\n",
              "      <td>0.000000e+00</td>\n",
              "    </tr>\n",
              "    <tr>\n",
              "      <th>75%</th>\n",
              "      <td>1.500000e+01</td>\n",
              "      <td>1.300000e+01</td>\n",
              "      <td>3.000000e+00</td>\n",
              "      <td>3.000000e+00</td>\n",
              "      <td>0.000000e+00</td>\n",
              "      <td>4.570312e+00</td>\n",
              "      <td>0.000000e+00</td>\n",
              "      <td>0.000000e+00</td>\n",
              "      <td>0.000000e+00</td>\n",
              "      <td>0.000000e+00</td>\n",
              "      <td>0.000000e+00</td>\n",
              "      <td>0.000000e+00</td>\n",
              "      <td>0.000000e+00</td>\n",
              "      <td>0.000000e+00</td>\n",
              "      <td>0.000000e+00</td>\n",
              "      <td>0.000000e+00</td>\n",
              "      <td>0.000000e+00</td>\n",
              "    </tr>\n",
              "    <tr>\n",
              "      <th>max</th>\n",
              "      <td>1.445500e+04</td>\n",
              "      <td>3.180800e+04</td>\n",
              "      <td>3.200300e+04</td>\n",
              "      <td>3.260100e+04</td>\n",
              "      <td>1.156800e+04</td>\n",
              "      <td>5.000000e+00</td>\n",
              "      <td>2.545200e+04</td>\n",
              "      <td>1.350100e+04</td>\n",
              "      <td>1.417900e+04</td>\n",
              "      <td>1.365400e+04</td>\n",
              "      <td>1.266900e+04</td>\n",
              "      <td>1.591600e+04</td>\n",
              "      <td>2.554600e+04</td>\n",
              "      <td>2.996500e+04</td>\n",
              "      <td>2.996500e+04</td>\n",
              "      <td>1.544500e+04</td>\n",
              "      <td>2.766000e+04</td>\n",
              "    </tr>\n",
              "  </tbody>\n",
              "</table>\n",
              "</div>"
            ],
            "text/plain": [
              "       review_count        useful  ...  compliment_writer  compliment_photos\n",
              "count  1.968703e+06  1.968703e+06  ...       1.968703e+06       1.968703e+06\n",
              "mean   2.216930e+01  3.699754e+01  ...       1.058364e+00       1.014877e+00\n",
              "std    7.674226e+01  3.776958e+02  ...       3.154894e+01       5.764002e+01\n",
              "min    0.000000e+00 -3.260300e+04  ...       0.000000e+00      -2.271000e+04\n",
              "25%    2.000000e+00  0.000000e+00  ...       0.000000e+00       0.000000e+00\n",
              "50%    5.000000e+00  3.000000e+00  ...       0.000000e+00       0.000000e+00\n",
              "75%    1.500000e+01  1.300000e+01  ...       0.000000e+00       0.000000e+00\n",
              "max    1.445500e+04  3.180800e+04  ...       1.544500e+04       2.766000e+04\n",
              "\n",
              "[8 rows x 17 columns]"
            ]
          },
          "metadata": {
            "tags": []
          },
          "execution_count": 30
        }
      ]
    },
    {
      "cell_type": "markdown",
      "metadata": {
        "id": "DagCFcQYHOcr"
      },
      "source": [
        "## 1.3. REVIEW DATA"
      ]
    },
    {
      "cell_type": "markdown",
      "metadata": {
        "id": "1_yOpQ9JHTWO"
      },
      "source": [
        "Finally, we come to the review dataset. This is the largest dataset around 6GB in size. We will load in smaller chunks, with `chunksize` to be 100000.\r\n",
        "Also, we will delete the `review_id` and the `text` columns since we don't need the `review_id` column in our model and we are also not attempting any NLP shenanigans which means we don't need `text` column."
      ]
    },
    {
      "cell_type": "code",
      "metadata": {
        "id": "KpBFfv-GwZTB"
      },
      "source": [
        "size = 100000\r\n",
        "review = pd.read_json('/content/drive/MyDrive/Colab Notebooks/UNIV-AI-ML1/Project/yelp_academic_dataset_review.json', lines=True,\r\n",
        "                      dtype={'review_id':str,'user_id':str,\r\n",
        "                             'business_id':str,'stars':np.float16,\r\n",
        "                             'date':str,'text':str,'useful':np.int16,\r\n",
        "                             'funny':np.int16,'cool':np.int16},\r\n",
        "                      chunksize=size,nrows=size*20)"
      ],
      "execution_count": null,
      "outputs": []
    },
    {
      "cell_type": "code",
      "metadata": {
        "id": "5avCVeFa9u0e"
      },
      "source": [
        "df_reviews=pd.DataFrame()\r\n",
        "for chunk in review:\r\n",
        "  df_chunk=pd.DataFrame(chunk)\r\n",
        "  df_chunk=df_chunk.drop(['review_id','text'],axis=1)\r\n",
        "  df_reviews=pd.concat([df_reviews,df_chunk],axis=0)"
      ],
      "execution_count": null,
      "outputs": []
    },
    {
      "cell_type": "markdown",
      "metadata": {
        "id": "PCV2CC6yH9wk"
      },
      "source": [
        "Next, we only keep those reviews, which are related to our business and remove the other."
      ]
    },
    {
      "cell_type": "code",
      "metadata": {
        "id": "dMlOpN37MzCL"
      },
      "source": [
        "df_reviews=df_reviews[df_reviews['business_id'].isin(df_restaurants['business_id'])]\r\n",
        "df_reviews=df_reviews.drop('date',axis=1)"
      ],
      "execution_count": null,
      "outputs": []
    },
    {
      "cell_type": "markdown",
      "metadata": {
        "id": "rduCMyRWIPOy"
      },
      "source": [
        "In the User data, there is a column having the years the person was `elite`. Instead of keeping that info, we are just going to keep the total numerber of years. Same goes for the `friends`, instead of the actual id of friends, we will keep the number of friends the guy/gal has."
      ]
    },
    {
      "cell_type": "code",
      "metadata": {
        "id": "wQc1HYdxhUUA"
      },
      "source": [
        "df_users['n_elite']=df_users['elite'].apply(lambda x: len([i for i in x.replace(\",\",\" \").split()]))\r\n",
        "df_users=df_users.drop('elite',axis=1)\r\n",
        "df_users['n_friends']=df_users['friends'].apply(lambda x: len([i for i in x.replace('None',\"\").replace(\",\",\" \").split()]))\r\n",
        "df_users=df_users.drop('friends',axis=1)\r\n",
        "df_users=df_users.drop('yelping_since',axis=1)\r\n",
        "df_users=df_users.rename(columns={\"useful\":'user_useful',\"funny\":\"user_funny\",\"cool\":\"user_cool\"})"
      ],
      "execution_count": null,
      "outputs": []
    },
    {
      "cell_type": "code",
      "metadata": {
        "colab": {
          "base_uri": "https://localhost:8080/",
          "height": 226
        },
        "id": "4lyYTVDBp9Ky",
        "outputId": "ee65290c-cf83-4e9a-920d-8b0179fd9846"
      },
      "source": [
        "df_users.head()"
      ],
      "execution_count": null,
      "outputs": [
        {
          "output_type": "execute_result",
          "data": {
            "text/html": [
              "<div>\n",
              "<style scoped>\n",
              "    .dataframe tbody tr th:only-of-type {\n",
              "        vertical-align: middle;\n",
              "    }\n",
              "\n",
              "    .dataframe tbody tr th {\n",
              "        vertical-align: top;\n",
              "    }\n",
              "\n",
              "    .dataframe thead th {\n",
              "        text-align: right;\n",
              "    }\n",
              "</style>\n",
              "<table border=\"1\" class=\"dataframe\">\n",
              "  <thead>\n",
              "    <tr style=\"text-align: right;\">\n",
              "      <th></th>\n",
              "      <th>user_id</th>\n",
              "      <th>name</th>\n",
              "      <th>review_count</th>\n",
              "      <th>user_useful</th>\n",
              "      <th>user_funny</th>\n",
              "      <th>user_cool</th>\n",
              "      <th>fans</th>\n",
              "      <th>average_stars</th>\n",
              "      <th>compliment_hot</th>\n",
              "      <th>compliment_more</th>\n",
              "      <th>compliment_profile</th>\n",
              "      <th>compliment_cute</th>\n",
              "      <th>compliment_list</th>\n",
              "      <th>compliment_note</th>\n",
              "      <th>compliment_plain</th>\n",
              "      <th>compliment_cool</th>\n",
              "      <th>compliment_funny</th>\n",
              "      <th>compliment_writer</th>\n",
              "      <th>compliment_photos</th>\n",
              "      <th>n_elite</th>\n",
              "      <th>n_friends</th>\n",
              "    </tr>\n",
              "  </thead>\n",
              "  <tbody>\n",
              "    <tr>\n",
              "      <th>0</th>\n",
              "      <td>ntlvfPzc8eglqvk92iDIAw</td>\n",
              "      <td>Rafael</td>\n",
              "      <td>553</td>\n",
              "      <td>628</td>\n",
              "      <td>225</td>\n",
              "      <td>227</td>\n",
              "      <td>14</td>\n",
              "      <td>3.570312</td>\n",
              "      <td>3</td>\n",
              "      <td>2</td>\n",
              "      <td>1</td>\n",
              "      <td>0</td>\n",
              "      <td>1</td>\n",
              "      <td>11</td>\n",
              "      <td>15</td>\n",
              "      <td>22</td>\n",
              "      <td>22</td>\n",
              "      <td>10</td>\n",
              "      <td>0</td>\n",
              "      <td>0</td>\n",
              "      <td>45</td>\n",
              "    </tr>\n",
              "    <tr>\n",
              "      <th>1</th>\n",
              "      <td>FOBRPlBHa3WPHFB5qYDlVg</td>\n",
              "      <td>Michelle</td>\n",
              "      <td>564</td>\n",
              "      <td>790</td>\n",
              "      <td>316</td>\n",
              "      <td>400</td>\n",
              "      <td>27</td>\n",
              "      <td>3.839844</td>\n",
              "      <td>36</td>\n",
              "      <td>4</td>\n",
              "      <td>5</td>\n",
              "      <td>2</td>\n",
              "      <td>1</td>\n",
              "      <td>33</td>\n",
              "      <td>37</td>\n",
              "      <td>63</td>\n",
              "      <td>63</td>\n",
              "      <td>21</td>\n",
              "      <td>5</td>\n",
              "      <td>6</td>\n",
              "      <td>213</td>\n",
              "    </tr>\n",
              "    <tr>\n",
              "      <th>4</th>\n",
              "      <td>xvu8G900tezTzbbfqmTKvA</td>\n",
              "      <td>Anne</td>\n",
              "      <td>485</td>\n",
              "      <td>1265</td>\n",
              "      <td>400</td>\n",
              "      <td>512</td>\n",
              "      <td>78</td>\n",
              "      <td>4.371094</td>\n",
              "      <td>8</td>\n",
              "      <td>9</td>\n",
              "      <td>2</td>\n",
              "      <td>1</td>\n",
              "      <td>1</td>\n",
              "      <td>22</td>\n",
              "      <td>28</td>\n",
              "      <td>31</td>\n",
              "      <td>31</td>\n",
              "      <td>19</td>\n",
              "      <td>31</td>\n",
              "      <td>9</td>\n",
              "      <td>895</td>\n",
              "    </tr>\n",
              "    <tr>\n",
              "      <th>7</th>\n",
              "      <td>f4_MRNHvN-yRn7EA8YWRxg</td>\n",
              "      <td>Jennifer</td>\n",
              "      <td>822</td>\n",
              "      <td>4127</td>\n",
              "      <td>2446</td>\n",
              "      <td>2878</td>\n",
              "      <td>137</td>\n",
              "      <td>3.630859</td>\n",
              "      <td>483</td>\n",
              "      <td>81</td>\n",
              "      <td>62</td>\n",
              "      <td>35</td>\n",
              "      <td>24</td>\n",
              "      <td>193</td>\n",
              "      <td>541</td>\n",
              "      <td>623</td>\n",
              "      <td>623</td>\n",
              "      <td>293</td>\n",
              "      <td>172</td>\n",
              "      <td>8</td>\n",
              "      <td>755</td>\n",
              "    </tr>\n",
              "    <tr>\n",
              "      <th>8</th>\n",
              "      <td>UYACF30806j2mfbB5vdmJA</td>\n",
              "      <td>Justin</td>\n",
              "      <td>14</td>\n",
              "      <td>68</td>\n",
              "      <td>21</td>\n",
              "      <td>34</td>\n",
              "      <td>4</td>\n",
              "      <td>3.750000</td>\n",
              "      <td>0</td>\n",
              "      <td>3</td>\n",
              "      <td>0</td>\n",
              "      <td>0</td>\n",
              "      <td>0</td>\n",
              "      <td>3</td>\n",
              "      <td>4</td>\n",
              "      <td>0</td>\n",
              "      <td>0</td>\n",
              "      <td>2</td>\n",
              "      <td>1</td>\n",
              "      <td>0</td>\n",
              "      <td>85</td>\n",
              "    </tr>\n",
              "  </tbody>\n",
              "</table>\n",
              "</div>"
            ],
            "text/plain": [
              "                  user_id      name  ...  n_elite  n_friends\n",
              "0  ntlvfPzc8eglqvk92iDIAw    Rafael  ...        0         45\n",
              "1  FOBRPlBHa3WPHFB5qYDlVg  Michelle  ...        6        213\n",
              "4  xvu8G900tezTzbbfqmTKvA      Anne  ...        9        895\n",
              "7  f4_MRNHvN-yRn7EA8YWRxg  Jennifer  ...        8        755\n",
              "8  UYACF30806j2mfbB5vdmJA    Justin  ...        0         85\n",
              "\n",
              "[5 rows x 21 columns]"
            ]
          },
          "metadata": {
            "tags": []
          },
          "execution_count": 106
        }
      ]
    },
    {
      "cell_type": "code",
      "metadata": {
        "colab": {
          "base_uri": "https://localhost:8080/",
          "height": 206
        },
        "id": "jPKlxPB-L7PG",
        "outputId": "681e2a9f-4ca2-4c85-8b96-0c0ec2365ec1"
      },
      "source": [
        "df_reviews.head()"
      ],
      "execution_count": null,
      "outputs": [
        {
          "output_type": "execute_result",
          "data": {
            "text/html": [
              "<div>\n",
              "<style scoped>\n",
              "    .dataframe tbody tr th:only-of-type {\n",
              "        vertical-align: middle;\n",
              "    }\n",
              "\n",
              "    .dataframe tbody tr th {\n",
              "        vertical-align: top;\n",
              "    }\n",
              "\n",
              "    .dataframe thead th {\n",
              "        text-align: right;\n",
              "    }\n",
              "</style>\n",
              "<table border=\"1\" class=\"dataframe\">\n",
              "  <thead>\n",
              "    <tr style=\"text-align: right;\">\n",
              "      <th></th>\n",
              "      <th>user_id</th>\n",
              "      <th>business_id</th>\n",
              "      <th>stars</th>\n",
              "      <th>useful</th>\n",
              "      <th>funny</th>\n",
              "      <th>cool</th>\n",
              "    </tr>\n",
              "  </thead>\n",
              "  <tbody>\n",
              "    <tr>\n",
              "      <th>3</th>\n",
              "      <td>ofKDkJKXSKZXu5xJNGiiBQ</td>\n",
              "      <td>5JxlZaqCnk1MnbgRirs40Q</td>\n",
              "      <td>1.0</td>\n",
              "      <td>0</td>\n",
              "      <td>0</td>\n",
              "      <td>0</td>\n",
              "    </tr>\n",
              "    <tr>\n",
              "      <th>16</th>\n",
              "      <td>2hRe26HSCAWbFRn5WChK-Q</td>\n",
              "      <td>d4qwVw4PcN-_2mK2o1Ro1g</td>\n",
              "      <td>1.0</td>\n",
              "      <td>0</td>\n",
              "      <td>0</td>\n",
              "      <td>0</td>\n",
              "    </tr>\n",
              "    <tr>\n",
              "      <th>19</th>\n",
              "      <td>QodunSzok4nIYFNrTSGesQ</td>\n",
              "      <td>poSV39UqEg-gpESXafS9-g</td>\n",
              "      <td>3.0</td>\n",
              "      <td>0</td>\n",
              "      <td>0</td>\n",
              "      <td>0</td>\n",
              "    </tr>\n",
              "    <tr>\n",
              "      <th>21</th>\n",
              "      <td>RR-2nouBn408e3djxC470g</td>\n",
              "      <td>d4qwVw4PcN-_2mK2o1Ro1g</td>\n",
              "      <td>5.0</td>\n",
              "      <td>0</td>\n",
              "      <td>0</td>\n",
              "      <td>0</td>\n",
              "    </tr>\n",
              "    <tr>\n",
              "      <th>24</th>\n",
              "      <td>-Co-ReNx_lXT1xL_Rr0B2g</td>\n",
              "      <td>XZbuPXdyA0ZtTu3AzqtQhg</td>\n",
              "      <td>4.0</td>\n",
              "      <td>0</td>\n",
              "      <td>1</td>\n",
              "      <td>0</td>\n",
              "    </tr>\n",
              "  </tbody>\n",
              "</table>\n",
              "</div>"
            ],
            "text/plain": [
              "                   user_id             business_id  stars  useful  funny  cool\n",
              "3   ofKDkJKXSKZXu5xJNGiiBQ  5JxlZaqCnk1MnbgRirs40Q    1.0       0      0     0\n",
              "16  2hRe26HSCAWbFRn5WChK-Q  d4qwVw4PcN-_2mK2o1Ro1g    1.0       0      0     0\n",
              "19  QodunSzok4nIYFNrTSGesQ  poSV39UqEg-gpESXafS9-g    3.0       0      0     0\n",
              "21  RR-2nouBn408e3djxC470g  d4qwVw4PcN-_2mK2o1Ro1g    5.0       0      0     0\n",
              "24  -Co-ReNx_lXT1xL_Rr0B2g  XZbuPXdyA0ZtTu3AzqtQhg    4.0       0      1     0"
            ]
          },
          "metadata": {
            "tags": []
          },
          "execution_count": 100
        }
      ]
    },
    {
      "cell_type": "code",
      "metadata": {
        "colab": {
          "base_uri": "https://localhost:8080/",
          "height": 504
        },
        "id": "K-WuAQo38gjE",
        "outputId": "05948fa0-58a4-4511-8db6-8e912dc4ba75"
      },
      "source": [
        "df_restaurants.head()"
      ],
      "execution_count": null,
      "outputs": [
        {
          "output_type": "execute_result",
          "data": {
            "text/html": [
              "<div>\n",
              "<style scoped>\n",
              "    .dataframe tbody tr th:only-of-type {\n",
              "        vertical-align: middle;\n",
              "    }\n",
              "\n",
              "    .dataframe tbody tr th {\n",
              "        vertical-align: top;\n",
              "    }\n",
              "\n",
              "    .dataframe thead th {\n",
              "        text-align: right;\n",
              "    }\n",
              "</style>\n",
              "<table border=\"1\" class=\"dataframe\">\n",
              "  <thead>\n",
              "    <tr style=\"text-align: right;\">\n",
              "      <th></th>\n",
              "      <th>business_id</th>\n",
              "      <th>name</th>\n",
              "      <th>address</th>\n",
              "      <th>city</th>\n",
              "      <th>state</th>\n",
              "      <th>postal_code</th>\n",
              "      <th>latitude</th>\n",
              "      <th>longitude</th>\n",
              "      <th>stars</th>\n",
              "      <th>review_count</th>\n",
              "      <th>is_open</th>\n",
              "      <th>attributes</th>\n",
              "      <th>categories</th>\n",
              "      <th>hours</th>\n",
              "    </tr>\n",
              "  </thead>\n",
              "  <tbody>\n",
              "    <tr>\n",
              "      <th>20</th>\n",
              "      <td>CsLQLiRoafpJPJSkNX2h5Q</td>\n",
              "      <td>Middle East Deli</td>\n",
              "      <td>4508 E Independence Blvd</td>\n",
              "      <td>Charlotte</td>\n",
              "      <td>NC</td>\n",
              "      <td>28205</td>\n",
              "      <td>35.18750</td>\n",
              "      <td>-80.7500</td>\n",
              "      <td>3.0</td>\n",
              "      <td>5</td>\n",
              "      <td>False</td>\n",
              "      <td>{'RestaurantsGoodForGroups': 'True', 'OutdoorS...</td>\n",
              "      <td>Food, Restaurants, Grocery, Middle Eastern</td>\n",
              "      <td>None</td>\n",
              "    </tr>\n",
              "    <tr>\n",
              "      <th>33</th>\n",
              "      <td>vjTVxnsQEZ34XjYNS-XUpA</td>\n",
              "      <td>Wetzel's Pretzels</td>\n",
              "      <td>4550 East Cactus Rd, #KSFC-4</td>\n",
              "      <td>Phoenix</td>\n",
              "      <td>AZ</td>\n",
              "      <td>85032</td>\n",
              "      <td>33.59375</td>\n",
              "      <td>-112.0000</td>\n",
              "      <td>4.0</td>\n",
              "      <td>10</td>\n",
              "      <td>True</td>\n",
              "      <td>{'GoodForKids': 'True', 'RestaurantsTakeOut': ...</td>\n",
              "      <td>Food, Pretzels, Bakeries, Fast Food, Restaurants</td>\n",
              "      <td>{'Monday': '10:0-21:0', 'Tuesday': '10:0-21:0'...</td>\n",
              "    </tr>\n",
              "    <tr>\n",
              "      <th>36</th>\n",
              "      <td>fnZrZlqW1Z8iWgTVDfv_MA</td>\n",
              "      <td>Carl's Jr</td>\n",
              "      <td>9595 W Tropicana Ave</td>\n",
              "      <td>Las Vegas</td>\n",
              "      <td>NV</td>\n",
              "      <td>89147</td>\n",
              "      <td>36.09375</td>\n",
              "      <td>-115.3125</td>\n",
              "      <td>2.5</td>\n",
              "      <td>15</td>\n",
              "      <td>False</td>\n",
              "      <td>{'Alcohol': 'u'none'', 'WiFi': 'u'no'', 'GoodF...</td>\n",
              "      <td>Mexican, Restaurants, Fast Food</td>\n",
              "      <td>None</td>\n",
              "    </tr>\n",
              "    <tr>\n",
              "      <th>38</th>\n",
              "      <td>rVBPQdeayMYht4Uv_FOLHg</td>\n",
              "      <td>Gourmet Burger Company</td>\n",
              "      <td>843 Kipling Avenue</td>\n",
              "      <td>Toronto</td>\n",
              "      <td>ON</td>\n",
              "      <td>M8Z 5G9</td>\n",
              "      <td>43.62500</td>\n",
              "      <td>-79.5625</td>\n",
              "      <td>3.0</td>\n",
              "      <td>13</td>\n",
              "      <td>False</td>\n",
              "      <td>{'RestaurantsPriceRange2': '2', 'RestaurantsAt...</td>\n",
              "      <td>Restaurants, Burgers, Food</td>\n",
              "      <td>None</td>\n",
              "    </tr>\n",
              "    <tr>\n",
              "      <th>42</th>\n",
              "      <td>fhNf_sg-XzZ3e7HEVGuOZg</td>\n",
              "      <td>Meat Chix And Wieners</td>\n",
              "      <td>6530 S Decatur Blvd</td>\n",
              "      <td>Las Vegas</td>\n",
              "      <td>NV</td>\n",
              "      <td>89118</td>\n",
              "      <td>36.06250</td>\n",
              "      <td>-115.1875</td>\n",
              "      <td>3.0</td>\n",
              "      <td>10</td>\n",
              "      <td>False</td>\n",
              "      <td>{'RestaurantsPriceRange2': '2', 'BusinessParki...</td>\n",
              "      <td>Burgers, Restaurants, American (Traditional), ...</td>\n",
              "      <td>{'Monday': '11:0-22:0', 'Tuesday': '11:0-22:0'...</td>\n",
              "    </tr>\n",
              "  </tbody>\n",
              "</table>\n",
              "</div>"
            ],
            "text/plain": [
              "               business_id  ...                                              hours\n",
              "20  CsLQLiRoafpJPJSkNX2h5Q  ...                                               None\n",
              "33  vjTVxnsQEZ34XjYNS-XUpA  ...  {'Monday': '10:0-21:0', 'Tuesday': '10:0-21:0'...\n",
              "36  fnZrZlqW1Z8iWgTVDfv_MA  ...                                               None\n",
              "38  rVBPQdeayMYht4Uv_FOLHg  ...                                               None\n",
              "42  fhNf_sg-XzZ3e7HEVGuOZg  ...  {'Monday': '11:0-22:0', 'Tuesday': '11:0-22:0'...\n",
              "\n",
              "[5 rows x 14 columns]"
            ]
          },
          "metadata": {
            "tags": []
          },
          "execution_count": 110
        }
      ]
    },
    {
      "cell_type": "markdown",
      "metadata": {
        "id": "a34lYdW0I54n"
      },
      "source": [
        "We also just focus on the Users who have provided the review for the business that are focusing on."
      ]
    },
    {
      "cell_type": "code",
      "metadata": {
        "id": "2p1LvKoiXxn2"
      },
      "source": [
        "df_users=df_users[df_users['user_id'].isin(df_reviews['user_id'])]"
      ],
      "execution_count": null,
      "outputs": []
    },
    {
      "cell_type": "markdown",
      "metadata": {
        "id": "eO1QN2voI5Pi"
      },
      "source": [
        "We pickle the datasets and store it for furtehr use."
      ]
    },
    {
      "cell_type": "code",
      "metadata": {
        "id": "ZhVMteDAYALr"
      },
      "source": [
        "df_reviews.to_pickle('/content/drive/MyDrive/Colab Notebooks/UNIV-AI-ML1/Project/df_reviews')\r\n",
        "del df_reviews\r\n",
        "df_users.to_pickle('/content/drive/MyDrive/Colab Notebooks/UNIV-AI-ML1/Project/df_users')\r\n",
        "del df_users"
      ],
      "execution_count": null,
      "outputs": []
    },
    {
      "cell_type": "code",
      "metadata": {
        "id": "UNMYnlEzYYnp"
      },
      "source": [
        "df_reviews=pd.read_pickle('/content/drive/MyDrive/Colab Notebooks/UNIV-AI-ML1/Project/df_reviews')\r\n",
        "df_users=pd.read_pickle('/content/drive/MyDrive/Colab Notebooks/UNIV-AI-ML1/Project/df_users')"
      ],
      "execution_count": 3,
      "outputs": []
    },
    {
      "cell_type": "code",
      "metadata": {
        "colab": {
          "base_uri": "https://localhost:8080/",
          "height": 462
        },
        "id": "s3xuBrPBpy37",
        "outputId": "c39d06a3-de3c-4d52-bf45-b4077e99a718"
      },
      "source": [
        "fig=plt.figure(figsize=(14,7))\r\n",
        "sns.histplot(df_users.review_count)\r\n",
        "plt.xscale('log')\r\n",
        "plt.xlabel('Review Count')\r\n",
        "plt.title('Distribution of Review Count');"
      ],
      "execution_count": 27,
      "outputs": [
        {
          "output_type": "display_data",
          "data": {
            "image/png": "[encoded data removed]",
            "text/plain": [
              "<Figure size 1008x504 with 1 Axes>"
            ]
          },
          "metadata": {
            "tags": [],
            "needs_background": "light"
          }
        }
      ]
    },
    {
      "cell_type": "code",
      "metadata": {
        "id": "RI8lNoDhpytf",
        "colab": {
          "base_uri": "https://localhost:8080/",
          "height": 459
        },
        "outputId": "4c21ffef-15b2-4585-e0ee-6dde374430e0"
      },
      "source": [
        "fig=plt.figure(figsize=(14,7))\r\n",
        "sns.histplot(df_users.average_stars)\r\n",
        "plt.title('Average Rating by users');"
      ],
      "execution_count": 36,
      "outputs": [
        {
          "output_type": "display_data",
          "data": {
            "image/png": "[encoded data removed]",
            "text/plain": [
              "<Figure size 1008x504 with 1 Axes>"
            ]
          },
          "metadata": {
            "tags": [],
            "needs_background": "light"
          }
        }
      ]
    },
    {
      "cell_type": "markdown",
      "metadata": {
        "id": "QSYrXU6tJKrd"
      },
      "source": [
        "Now, we get the data ready for modelling. Columns `user_id`, `business_id` and `stars` are going to be used from the reviews dataset along with the user info."
      ]
    },
    {
      "cell_type": "code",
      "metadata": {
        "id": "8ph6GsumYmSp"
      },
      "source": [
        "df_merge=pd.merge(df_users['user_id'],df_reviews[['user_id','business_id','stars']],on='user_id', how='inner')"
      ],
      "execution_count": null,
      "outputs": []
    },
    {
      "cell_type": "code",
      "metadata": {
        "id": "YU-h7KtC9BLw"
      },
      "source": [
        "users = df_merge.user_id.unique()\r\n",
        "rest = df_merge.business_id.unique()"
      ],
      "execution_count": null,
      "outputs": []
    },
    {
      "cell_type": "markdown",
      "metadata": {
        "id": "UDRQnbTPJjDe"
      },
      "source": [
        "Next,we remove the `user_id` which are in the form of Hashtags and replace them with numerical ID's. This will be done for `business_id` as well. "
      ]
    },
    {
      "cell_type": "code",
      "metadata": {
        "id": "zipIQOz0-wKV"
      },
      "source": [
        "userid2idx = {o:i for i,o in enumerate(users)}\r\n",
        "rest2idx = {o:i for i,o in enumerate(rest)}"
      ],
      "execution_count": null,
      "outputs": []
    },
    {
      "cell_type": "code",
      "metadata": {
        "id": "kVAippBj_jIe"
      },
      "source": [
        "df_merge['user_id'] = df_merge['user_id'].apply(lambda x: userid2idx[x])\r\n",
        "df_merge['business_id'] = df_merge['business_id'].apply(lambda x: rest2idx[x])\r\n",
        "df_users['user_id'] = df_users['user_id'].apply(lambda x: userid2idx[x])"
      ],
      "execution_count": null,
      "outputs": []
    },
    {
      "cell_type": "code",
      "metadata": {
        "id": "V9tTjvTk_8qd"
      },
      "source": [
        "df_restaurants = df_restaurants[df_restaurants['business_id'].isin(rest)]\r\n",
        "df_restaurants['business_id']= df_restaurants['business_id'].apply(lambda x: rest2idx[x])"
      ],
      "execution_count": null,
      "outputs": []
    },
    {
      "cell_type": "code",
      "metadata": {
        "colab": {
          "base_uri": "https://localhost:8080/",
          "height": 504
        },
        "id": "Iwd1FMbSAFNO",
        "outputId": "f15f3193-a924-4581-8b8a-b01cdeeceb6f"
      },
      "source": [
        "df_restaurants.head()"
      ],
      "execution_count": null,
      "outputs": [
        {
          "output_type": "execute_result",
          "data": {
            "text/html": [
              "<div>\n",
              "<style scoped>\n",
              "    .dataframe tbody tr th:only-of-type {\n",
              "        vertical-align: middle;\n",
              "    }\n",
              "\n",
              "    .dataframe tbody tr th {\n",
              "        vertical-align: top;\n",
              "    }\n",
              "\n",
              "    .dataframe thead th {\n",
              "        text-align: right;\n",
              "    }\n",
              "</style>\n",
              "<table border=\"1\" class=\"dataframe\">\n",
              "  <thead>\n",
              "    <tr style=\"text-align: right;\">\n",
              "      <th></th>\n",
              "      <th>business_id</th>\n",
              "      <th>name</th>\n",
              "      <th>address</th>\n",
              "      <th>city</th>\n",
              "      <th>state</th>\n",
              "      <th>postal_code</th>\n",
              "      <th>latitude</th>\n",
              "      <th>longitude</th>\n",
              "      <th>stars</th>\n",
              "      <th>review_count</th>\n",
              "      <th>is_open</th>\n",
              "      <th>attributes</th>\n",
              "      <th>categories</th>\n",
              "      <th>hours</th>\n",
              "    </tr>\n",
              "  </thead>\n",
              "  <tbody>\n",
              "    <tr>\n",
              "      <th>20</th>\n",
              "      <td>2274</td>\n",
              "      <td>Middle East Deli</td>\n",
              "      <td>4508 E Independence Blvd</td>\n",
              "      <td>Charlotte</td>\n",
              "      <td>NC</td>\n",
              "      <td>28205</td>\n",
              "      <td>35.18750</td>\n",
              "      <td>-80.7500</td>\n",
              "      <td>3.0</td>\n",
              "      <td>5</td>\n",
              "      <td>False</td>\n",
              "      <td>{'RestaurantsGoodForGroups': 'True', 'OutdoorS...</td>\n",
              "      <td>Food, Restaurants, Grocery, Middle Eastern</td>\n",
              "      <td>None</td>\n",
              "    </tr>\n",
              "    <tr>\n",
              "      <th>33</th>\n",
              "      <td>2926</td>\n",
              "      <td>Wetzel's Pretzels</td>\n",
              "      <td>4550 East Cactus Rd, #KSFC-4</td>\n",
              "      <td>Phoenix</td>\n",
              "      <td>AZ</td>\n",
              "      <td>85032</td>\n",
              "      <td>33.59375</td>\n",
              "      <td>-112.0000</td>\n",
              "      <td>4.0</td>\n",
              "      <td>10</td>\n",
              "      <td>True</td>\n",
              "      <td>{'GoodForKids': 'True', 'RestaurantsTakeOut': ...</td>\n",
              "      <td>Food, Pretzels, Bakeries, Fast Food, Restaurants</td>\n",
              "      <td>{'Monday': '10:0-21:0', 'Tuesday': '10:0-21:0'...</td>\n",
              "    </tr>\n",
              "    <tr>\n",
              "      <th>36</th>\n",
              "      <td>1075</td>\n",
              "      <td>Carl's Jr</td>\n",
              "      <td>9595 W Tropicana Ave</td>\n",
              "      <td>Las Vegas</td>\n",
              "      <td>NV</td>\n",
              "      <td>89147</td>\n",
              "      <td>36.09375</td>\n",
              "      <td>-115.3125</td>\n",
              "      <td>2.5</td>\n",
              "      <td>15</td>\n",
              "      <td>False</td>\n",
              "      <td>{'Alcohol': 'u'none'', 'WiFi': 'u'no'', 'GoodF...</td>\n",
              "      <td>Mexican, Restaurants, Fast Food</td>\n",
              "      <td>None</td>\n",
              "    </tr>\n",
              "    <tr>\n",
              "      <th>38</th>\n",
              "      <td>4286</td>\n",
              "      <td>Gourmet Burger Company</td>\n",
              "      <td>843 Kipling Avenue</td>\n",
              "      <td>Toronto</td>\n",
              "      <td>ON</td>\n",
              "      <td>M8Z 5G9</td>\n",
              "      <td>43.62500</td>\n",
              "      <td>-79.5625</td>\n",
              "      <td>3.0</td>\n",
              "      <td>13</td>\n",
              "      <td>False</td>\n",
              "      <td>{'RestaurantsPriceRange2': '2', 'RestaurantsAt...</td>\n",
              "      <td>Restaurants, Burgers, Food</td>\n",
              "      <td>None</td>\n",
              "    </tr>\n",
              "    <tr>\n",
              "      <th>42</th>\n",
              "      <td>1074</td>\n",
              "      <td>Meat Chix And Wieners</td>\n",
              "      <td>6530 S Decatur Blvd</td>\n",
              "      <td>Las Vegas</td>\n",
              "      <td>NV</td>\n",
              "      <td>89118</td>\n",
              "      <td>36.06250</td>\n",
              "      <td>-115.1875</td>\n",
              "      <td>3.0</td>\n",
              "      <td>10</td>\n",
              "      <td>False</td>\n",
              "      <td>{'RestaurantsPriceRange2': '2', 'BusinessParki...</td>\n",
              "      <td>Burgers, Restaurants, American (Traditional), ...</td>\n",
              "      <td>{'Monday': '11:0-22:0', 'Tuesday': '11:0-22:0'...</td>\n",
              "    </tr>\n",
              "  </tbody>\n",
              "</table>\n",
              "</div>"
            ],
            "text/plain": [
              "    business_id  ...                                              hours\n",
              "20         2274  ...                                               None\n",
              "33         2926  ...  {'Monday': '10:0-21:0', 'Tuesday': '10:0-21:0'...\n",
              "36         1075  ...                                               None\n",
              "38         4286  ...                                               None\n",
              "42         1074  ...  {'Monday': '11:0-22:0', 'Tuesday': '11:0-22:0'...\n",
              "\n",
              "[5 rows x 14 columns]"
            ]
          },
          "metadata": {
            "tags": []
          },
          "execution_count": 143
        }
      ]
    },
    {
      "cell_type": "markdown",
      "metadata": {
        "id": "K0fecHDaJ7KA"
      },
      "source": [
        "Now, we will get the unique users and businesses that we have. This will be useful for the emd=bedding of the data."
      ]
    },
    {
      "cell_type": "code",
      "metadata": {
        "colab": {
          "base_uri": "https://localhost:8080/"
        },
        "id": "Ky9LUOocBCIF",
        "outputId": "84ddf4d7-ed19-4e4a-f66f-7ba9d0fcb4e0"
      },
      "source": [
        "nusers = df_merge['user_id'].nunique()\r\n",
        "nrest= df_merge['business_id'].nunique()\r\n",
        "nusers, nrest"
      ],
      "execution_count": null,
      "outputs": [
        {
          "output_type": "execute_result",
          "data": {
            "text/plain": [
              "(346092, 6564)"
            ]
          },
          "metadata": {
            "tags": []
          },
          "execution_count": 11
        }
      ]
    },
    {
      "cell_type": "markdown",
      "metadata": {
        "id": "H170rO-rKOkQ"
      },
      "source": [
        "# PART 2. Modelling"
      ]
    },
    {
      "cell_type": "markdown",
      "metadata": {
        "id": "_Q2h2-4jKRha"
      },
      "source": [
        "First we split the data into train and validation set, with an 80/20 split."
      ]
    },
    {
      "cell_type": "code",
      "metadata": {
        "colab": {
          "base_uri": "https://localhost:8080/"
        },
        "id": "wr0g1V25CV-v",
        "outputId": "7b915cb5-b9f2-4d1b-ec5e-f987219923ce"
      },
      "source": [
        "train_indices, val_indices = train_test_split(range(df_merge.shape[0]), train_size=0.8)\r\n",
        "trdf = df_merge.iloc[train_indices]\r\n",
        "valdf = df_merge.iloc[val_indices]\r\n",
        "trdf.shape, valdf.shape"
      ],
      "execution_count": null,
      "outputs": [
        {
          "output_type": "execute_result",
          "data": {
            "text/plain": [
              "((532039, 3), (133010, 3))"
            ]
          },
          "metadata": {
            "tags": []
          },
          "execution_count": 12
        }
      ]
    },
    {
      "cell_type": "markdown",
      "metadata": {
        "id": "SMsYI-oIKYWe"
      },
      "source": [
        "We are going to use a latent factor of size 50 for our embedding and also regularization of 1r-4. These parameters should have been obtained from the cross-validation but wasn't done to limit the scope and work with the time constraints."
      ]
    },
    {
      "cell_type": "code",
      "metadata": {
        "id": "a1ky3FIJAjkB"
      },
      "source": [
        "L = 50\r\n",
        "REG=1e-4"
      ],
      "execution_count": null,
      "outputs": []
    },
    {
      "cell_type": "markdown",
      "metadata": {
        "id": "qMGHafwJKusW"
      },
      "source": [
        "Now, we create the bias and the embedding for the model using the user and the restuarant info. We multiply the embdding and add the bias to get our residual loss for out Regression model, which we are going to minimize. The optimizer has been chosen to be ADAM and we are going to use a learning rate scheduler to reduce the learning rate after each epoch."
      ]
    },
    {
      "cell_type": "code",
      "metadata": {
        "id": "Yyedo7TtAub2"
      },
      "source": [
        "def create_bias(name, inp, n_in, reg):\r\n",
        "    x = Embedding(n_in, 1, input_length=1, embeddings_regularizer=l2(reg))(inp)\r\n",
        "    return Flatten(name=name+'_flat')(x)"
      ],
      "execution_count": null,
      "outputs": []
    },
    {
      "cell_type": "code",
      "metadata": {
        "id": "aAGb8ymWAuY3"
      },
      "source": [
        "def embedding_input(name, n_in, n_out, reg):\r\n",
        "    inp = Input(shape=(1,), dtype='int64', name=name)\r\n",
        "    return inp, Embedding(n_in, n_out, input_length=1, name=name.split('_')[0]+'_factor', embeddings_regularizer=l2(reg))(inp)"
      ],
      "execution_count": null,
      "outputs": []
    },
    {
      "cell_type": "code",
      "metadata": {
        "id": "skmlVnkdAuWA"
      },
      "source": [
        "user_input, uLmat = embedding_input('user_input', nusers, L, REG)\r\n",
        "rest_input, rLmat = embedding_input('rest_input', nrest, L, REG)"
      ],
      "execution_count": null,
      "outputs": []
    },
    {
      "cell_type": "code",
      "metadata": {
        "id": "57dqVIroAuS2"
      },
      "source": [
        "user_bias = create_bias('user_bias', user_input, nusers, REG)\r\n",
        "rest_bias = create_bias('rest_bias', rest_input, nrest, REG)"
      ],
      "execution_count": null,
      "outputs": []
    },
    {
      "cell_type": "code",
      "metadata": {
        "id": "6o36AW5bAuDr"
      },
      "source": [
        "residual = Dot(axes=2, name=\"residual\")([uLmat, rLmat])"
      ],
      "execution_count": null,
      "outputs": []
    },
    {
      "cell_type": "code",
      "metadata": {
        "colab": {
          "base_uri": "https://localhost:8080/"
        },
        "id": "5jOkiHVYC2zL",
        "outputId": "5c695fa1-21b1-4db5-abfb-27debb80c5c9"
      },
      "source": [
        "residflat = Flatten(name=\"residual_flat\")(residual)\r\n",
        "residflat.shape"
      ],
      "execution_count": null,
      "outputs": [
        {
          "output_type": "execute_result",
          "data": {
            "text/plain": [
              "TensorShape([None, 1])"
            ]
          },
          "metadata": {
            "tags": []
          },
          "execution_count": 110
        }
      ]
    },
    {
      "cell_type": "code",
      "metadata": {
        "id": "-gYrV0gVC5qm"
      },
      "source": [
        "regression = Add(name=\"regression\")([user_bias, rest_bias, residflat])"
      ],
      "execution_count": null,
      "outputs": []
    },
    {
      "cell_type": "code",
      "metadata": {
        "id": "uzCRRRVoC_fW"
      },
      "source": [
        "def sigmoid_maker(low, high):\r\n",
        "    def custom_sigmoid(x):\r\n",
        "        return K.sigmoid(x)*(high - low) + low\r\n",
        "    return custom_sigmoid"
      ],
      "execution_count": null,
      "outputs": []
    },
    {
      "cell_type": "code",
      "metadata": {
        "id": "5yUM5YNODE_C"
      },
      "source": [
        "cs = sigmoid_maker(0, 5.5)"
      ],
      "execution_count": null,
      "outputs": []
    },
    {
      "cell_type": "code",
      "metadata": {
        "id": "vzKCzbmCDHO7"
      },
      "source": [
        "output = Activation(cs, name=\"Sigmoid_Range\")(regression)"
      ],
      "execution_count": null,
      "outputs": []
    },
    {
      "cell_type": "markdown",
      "metadata": {
        "id": "xoyPo3OBLRiT"
      },
      "source": [
        "This is the code for the learning rate scheduler which updates the learning rate after each epoch. I wanted to use the One Cycle Policy for the learning rate, but couldn't find the necessary function in the library."
      ]
    },
    {
      "cell_type": "code",
      "metadata": {
        "id": "QNb449FfE8M5"
      },
      "source": [
        "def lr_scheduler(epoch, lr):\r\n",
        "    decay_rate = 0.1\r\n",
        "    decay_step = 1\r\n",
        "    if epoch % decay_step == 0 and epoch:\r\n",
        "        return lr * decay_rate\r\n",
        "    return lr\r\n",
        "\r\n",
        "callbacks = [LearningRateScheduler(lr_scheduler, verbose=1)]"
      ],
      "execution_count": null,
      "outputs": []
    },
    {
      "cell_type": "code",
      "metadata": {
        "id": "-ToPT0pCDKaK"
      },
      "source": [
        "model = Model([user_input, rest_input], output)\r\n",
        "model.compile(Adam(0.01), loss='mse')"
      ],
      "execution_count": null,
      "outputs": []
    },
    {
      "cell_type": "markdown",
      "metadata": {
        "id": "xbqgVXDVLn3Q"
      },
      "source": [
        "Next we fit the model for 5 epochs with batch_size of 512 and starting learning rate of 0.001. The learning rate will be decreased by a factor of 0.1 after each epoch."
      ]
    },
    {
      "cell_type": "code",
      "metadata": {
        "colab": {
          "base_uri": "https://localhost:8080/"
        },
        "id": "ZarTiD9AGMW1",
        "outputId": "12e441b3-715a-4d58-cd00-d9df52505e83"
      },
      "source": [
        "model.fit([trdf.user_id, trdf.business_id], trdf.stars, batch_size=512, epochs=5, \r\n",
        "          validation_data=([valdf.user_id, valdf.business_id], valdf.stars),callbacks=callbacks)"
      ],
      "execution_count": null,
      "outputs": [
        {
          "output_type": "stream",
          "text": [
            "Epoch 1/5\n",
            "\n",
            "Epoch 00001: LearningRateScheduler reducing learning rate to 0.009999999776482582.\n",
            "1040/1040 [==============================] - 96s 92ms/step - loss: 2.2080 - val_loss: 1.9113\n",
            "Epoch 2/5\n",
            "\n",
            "Epoch 00002: LearningRateScheduler reducing learning rate to 0.0009999999776482583.\n",
            "1040/1040 [==============================] - 95s 92ms/step - loss: 1.7674 - val_loss: 1.7867\n",
            "Epoch 3/5\n",
            "\n",
            "Epoch 00003: LearningRateScheduler reducing learning rate to 9.999999310821295e-05.\n",
            "1040/1040 [==============================] - 96s 93ms/step - loss: 1.6942 - val_loss: 1.7831\n",
            "Epoch 4/5\n",
            "\n",
            "Epoch 00004: LearningRateScheduler reducing learning rate to 9.999999019782991e-06.\n",
            "1040/1040 [==============================] - 96s 92ms/step - loss: 1.6933 - val_loss: 1.7828\n",
            "Epoch 5/5\n",
            "\n",
            "Epoch 00005: LearningRateScheduler reducing learning rate to 9.99999883788405e-07.\n",
            "1040/1040 [==============================] - 97s 93ms/step - loss: 1.6941 - val_loss: 1.7828\n"
          ],
          "name": "stdout"
        },
        {
          "output_type": "execute_result",
          "data": {
            "text/plain": [
              "<tensorflow.python.keras.callbacks.History at 0x7fbfc3604f10>"
            ]
          },
          "metadata": {
            "tags": []
          },
          "execution_count": 117
        }
      ]
    },
    {
      "cell_type": "markdown",
      "metadata": {
        "id": "Q_xqQMDdMN7H"
      },
      "source": [
        "# PART 3. PREDICTION"
      ]
    },
    {
      "cell_type": "markdown",
      "metadata": {
        "id": "82aDu7yIMSxy"
      },
      "source": [
        "Here, we can do the predictions for the individual users and business. Also, we have defined a function which is going to give us the Top 5 recommendation for a particular user."
      ]
    },
    {
      "cell_type": "code",
      "metadata": {
        "id": "0LUqF5VagfjH"
      },
      "source": [
        "def predict(userid,restid):\r\n",
        "  pred=model.predict([np.array([userid]), np.array([restid])])\r\n",
        "  pred=round(float(pred)*2)/2\r\n",
        "  return pred"
      ],
      "execution_count": null,
      "outputs": []
    },
    {
      "cell_type": "code",
      "metadata": {
        "id": "7axwCP_jfzqj"
      },
      "source": [
        "def user_pred(user_id):\r\n",
        "  df_user_id=df_merge[(df_merge['user_id']==user_id)].copy()\r\n",
        "  rest_not_visited=list(set(df_restaurants.business_id)-set(df_user_id.business_id))\r\n",
        "  df_user_id_pred=df_restaurants[df_restaurants.business_id.isin(rest_not_visited)].copy()\r\n",
        "  df_user_id_pred['user_id']=user_id\r\n",
        "  df_user_id_pred['prediction']=model.predict([df_user_id_pred['user_id'],df_user_id_pred['business_id']])\r\n",
        "  df_user_id_pred['user_name']=df_users[df_users['user_id']==user_id].name.values[0]\r\n",
        "  df_user_id_pred=df_user_id_pred.sort_values('prediction',ascending=False)[:5]\r\n",
        "  display(df_user_id_pred.head(5))"
      ],
      "execution_count": null,
      "outputs": []
    },
    {
      "cell_type": "markdown",
      "metadata": {
        "id": "eoqaGZCkMlsq"
      },
      "source": [
        "Let's see the prediction for USER NUMBER 6.\r\n"
      ]
    },
    {
      "cell_type": "code",
      "metadata": {
        "colab": {
          "base_uri": "https://localhost:8080/",
          "height": 591
        },
        "id": "_lK-p0h4-pDx",
        "outputId": "a6672d05-a374-4601-b04a-78bc60eea2cf"
      },
      "source": [
        "user_pred(6)"
      ],
      "execution_count": null,
      "outputs": [
        {
          "output_type": "display_data",
          "data": {
            "text/html": [
              "<div>\n",
              "<style scoped>\n",
              "    .dataframe tbody tr th:only-of-type {\n",
              "        vertical-align: middle;\n",
              "    }\n",
              "\n",
              "    .dataframe tbody tr th {\n",
              "        vertical-align: top;\n",
              "    }\n",
              "\n",
              "    .dataframe thead th {\n",
              "        text-align: right;\n",
              "    }\n",
              "</style>\n",
              "<table border=\"1\" class=\"dataframe\">\n",
              "  <thead>\n",
              "    <tr style=\"text-align: right;\">\n",
              "      <th></th>\n",
              "      <th>business_id</th>\n",
              "      <th>name</th>\n",
              "      <th>address</th>\n",
              "      <th>city</th>\n",
              "      <th>state</th>\n",
              "      <th>postal_code</th>\n",
              "      <th>latitude</th>\n",
              "      <th>longitude</th>\n",
              "      <th>stars</th>\n",
              "      <th>review_count</th>\n",
              "      <th>is_open</th>\n",
              "      <th>attributes</th>\n",
              "      <th>categories</th>\n",
              "      <th>hours</th>\n",
              "      <th>user_id</th>\n",
              "      <th>prediction</th>\n",
              "      <th>user_name</th>\n",
              "    </tr>\n",
              "  </thead>\n",
              "  <tbody>\n",
              "    <tr>\n",
              "      <th>12657</th>\n",
              "      <td>580</td>\n",
              "      <td>Brew Tea Bar</td>\n",
              "      <td>7380 S Rainbow Blvd, Ste 101</td>\n",
              "      <td>Las Vegas</td>\n",
              "      <td>NV</td>\n",
              "      <td>89139</td>\n",
              "      <td>36.06250</td>\n",
              "      <td>-115.250</td>\n",
              "      <td>5.0</td>\n",
              "      <td>1827</td>\n",
              "      <td>True</td>\n",
              "      <td>{'HasTV': 'False', 'OutdoorSeating': 'True', '...</td>\n",
              "      <td>Restaurants, Food, Cafes, Tea Rooms, Bubble Te...</td>\n",
              "      <td>{'Monday': '0:0-0:0', 'Tuesday': '11:0-22:0', ...</td>\n",
              "      <td>6</td>\n",
              "      <td>4.802965</td>\n",
              "      <td>Lisa Marie</td>\n",
              "    </tr>\n",
              "    <tr>\n",
              "      <th>6245</th>\n",
              "      <td>384</td>\n",
              "      <td>Hobak Korean BBQ</td>\n",
              "      <td>5808 Spring Mountain Rd, Ste 101</td>\n",
              "      <td>Las Vegas</td>\n",
              "      <td>NV</td>\n",
              "      <td>89146</td>\n",
              "      <td>36.12500</td>\n",
              "      <td>-115.250</td>\n",
              "      <td>4.5</td>\n",
              "      <td>1850</td>\n",
              "      <td>True</td>\n",
              "      <td>{'OutdoorSeating': 'False', 'DogsAllowed': 'Fa...</td>\n",
              "      <td>Barbeque, Restaurants, Korean</td>\n",
              "      <td>{'Monday': '11:30-23:0', 'Tuesday': '11:30-23:...</td>\n",
              "      <td>6</td>\n",
              "      <td>4.627387</td>\n",
              "      <td>Lisa Marie</td>\n",
              "    </tr>\n",
              "    <tr>\n",
              "      <th>20725</th>\n",
              "      <td>312</td>\n",
              "      <td>Baguette Cafe</td>\n",
              "      <td>8359 W Sunset Rd, Ste 100</td>\n",
              "      <td>Las Vegas</td>\n",
              "      <td>NV</td>\n",
              "      <td>89113</td>\n",
              "      <td>36.06250</td>\n",
              "      <td>-115.250</td>\n",
              "      <td>4.5</td>\n",
              "      <td>1284</td>\n",
              "      <td>True</td>\n",
              "      <td>{'ByAppointmentOnly': 'False', 'BusinessAccept...</td>\n",
              "      <td>Delis, Vegan, Restaurants, French, Food, Coffe...</td>\n",
              "      <td>{'Monday': '7:0-17:0', 'Tuesday': '7:0-17:0', ...</td>\n",
              "      <td>6</td>\n",
              "      <td>4.616957</td>\n",
              "      <td>Lisa Marie</td>\n",
              "    </tr>\n",
              "    <tr>\n",
              "      <th>51068</th>\n",
              "      <td>1655</td>\n",
              "      <td>VegeNation</td>\n",
              "      <td>616 Carson Ave, Ste 120</td>\n",
              "      <td>Las Vegas</td>\n",
              "      <td>NV</td>\n",
              "      <td>89101</td>\n",
              "      <td>36.15625</td>\n",
              "      <td>-115.125</td>\n",
              "      <td>4.5</td>\n",
              "      <td>1638</td>\n",
              "      <td>True</td>\n",
              "      <td>{'Caters': 'True', 'RestaurantsDelivery': 'Tru...</td>\n",
              "      <td>Live/Raw Food, Bars, Vegetarian, Restaurants, ...</td>\n",
              "      <td>{'Monday': '8:0-21:0', 'Tuesday': '8:0-21:0', ...</td>\n",
              "      <td>6</td>\n",
              "      <td>4.604917</td>\n",
              "      <td>Lisa Marie</td>\n",
              "    </tr>\n",
              "    <tr>\n",
              "      <th>34429</th>\n",
              "      <td>414</td>\n",
              "      <td>Chubby Cattle</td>\n",
              "      <td>3400 S Jones Blvd, Ste 15</td>\n",
              "      <td>Las Vegas</td>\n",
              "      <td>NV</td>\n",
              "      <td>89146</td>\n",
              "      <td>36.12500</td>\n",
              "      <td>-115.250</td>\n",
              "      <td>4.5</td>\n",
              "      <td>1738</td>\n",
              "      <td>True</td>\n",
              "      <td>{'ByAppointmentOnly': 'False', 'RestaurantsTab...</td>\n",
              "      <td>Chinese, Barbeque, Mongolian, Restaurants, Hot...</td>\n",
              "      <td>{'Monday': '17:0-23:45', 'Tuesday': '17:0-23:4...</td>\n",
              "      <td>6</td>\n",
              "      <td>4.592916</td>\n",
              "      <td>Lisa Marie</td>\n",
              "    </tr>\n",
              "  </tbody>\n",
              "</table>\n",
              "</div>"
            ],
            "text/plain": [
              "       business_id              name  ... prediction   user_name\n",
              "12657          580      Brew Tea Bar  ...   4.802965  Lisa Marie\n",
              "6245           384  Hobak Korean BBQ  ...   4.627387  Lisa Marie\n",
              "20725          312     Baguette Cafe  ...   4.616957  Lisa Marie\n",
              "51068         1655        VegeNation  ...   4.604917  Lisa Marie\n",
              "34429          414     Chubby Cattle  ...   4.592916  Lisa Marie\n",
              "\n",
              "[5 rows x 17 columns]"
            ]
          },
          "metadata": {
            "tags": []
          }
        }
      ]
    },
    {
      "cell_type": "markdown",
      "metadata": {
        "id": "e_0x1iWLM6V-"
      },
      "source": [
        "Looks like Lisa Marie has a liking for restaurants in Las Vegas and mostly loves cafe's."
      ]
    },
    {
      "cell_type": "markdown",
      "metadata": {
        "id": "pXeWI3JKNnFk"
      },
      "source": [
        "This brings us to the end of the project. I would like to say that this is by no means what I had in mind for the project. Due to unfortunate circumstances, I had to limit the scope of the project too heavily just so that I could submit something. I would have loved to go deeper into the topic and build a better project which provides very good insight into the dataset. I deeply regret that and am not at all proud of what I am submitting."
      ]
    },
    {
      "cell_type": "code",
      "metadata": {
        "id": "0mrk91XuBXdV"
      },
      "source": [
        ""
      ],
      "execution_count": null,
      "outputs": []
    }
  ]
}